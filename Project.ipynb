{
  "nbformat": 4,
  "nbformat_minor": 0,
  "metadata": {
    "colab": {
      "provenance": [],
      "mount_file_id": "1-UlSfv4do96VoT0fA2EAGp3mZ5Rc3sp4",
      "authorship_tag": "ABX9TyP/LBpkrsVzmJkO4Ro8sH58"
    },
    "kernelspec": {
      "name": "python3",
      "display_name": "Python 3"
    },
    "language_info": {
      "name": "python"
    }
  },
  "cells": [
    {
      "cell_type": "code",
      "execution_count": 3,
      "metadata": {
        "colab": {
          "base_uri": "https://localhost:8080/",
          "height": 270
        },
        "id": "9poTkvBr39b-",
        "outputId": "9d3b2fbd-77b5-46d5-a26f-e13d53a04786"
      },
      "outputs": [
        {
          "output_type": "execute_result",
          "data": {
            "text/plain": [
              "   Administrative  Administrative_Duration  Informational  \\\n",
              "0               0                      0.0              0   \n",
              "1               0                      0.0              0   \n",
              "2               0                      0.0              0   \n",
              "3               0                      0.0              0   \n",
              "4               0                      0.0              0   \n",
              "\n",
              "   Informational_Duration  ProductRelated  ProductRelated_Duration  \\\n",
              "0                     0.0               1                 0.000000   \n",
              "1                     0.0               2                64.000000   \n",
              "2                     0.0               1                 0.000000   \n",
              "3                     0.0               2                 2.666667   \n",
              "4                     0.0              10               627.500000   \n",
              "\n",
              "   BounceRates  ExitRates  PageValues  SpecialDay Month  OperatingSystems  \\\n",
              "0         0.20       0.20         0.0         0.0   Feb                 1   \n",
              "1         0.00       0.10         0.0         0.0   Feb                 2   \n",
              "2         0.20       0.20         0.0         0.0   Feb                 4   \n",
              "3         0.05       0.14         0.0         0.0   Feb                 3   \n",
              "4         0.02       0.05         0.0         0.0   Feb                 3   \n",
              "\n",
              "   Browser  Region  TrafficType        VisitorType  Weekend  Revenue  \n",
              "0        1       1            1  Returning_Visitor    False    False  \n",
              "1        2       1            2  Returning_Visitor    False    False  \n",
              "2        1       9            3  Returning_Visitor    False    False  \n",
              "3        2       2            4  Returning_Visitor    False    False  \n",
              "4        3       1            4  Returning_Visitor     True    False  "
            ],
            "text/html": [
              "\n",
              "  <div id=\"df-48527423-b54f-45cb-a890-613f87cbcd50\">\n",
              "    <div class=\"colab-df-container\">\n",
              "      <div>\n",
              "<style scoped>\n",
              "    .dataframe tbody tr th:only-of-type {\n",
              "        vertical-align: middle;\n",
              "    }\n",
              "\n",
              "    .dataframe tbody tr th {\n",
              "        vertical-align: top;\n",
              "    }\n",
              "\n",
              "    .dataframe thead th {\n",
              "        text-align: right;\n",
              "    }\n",
              "</style>\n",
              "<table border=\"1\" class=\"dataframe\">\n",
              "  <thead>\n",
              "    <tr style=\"text-align: right;\">\n",
              "      <th></th>\n",
              "      <th>Administrative</th>\n",
              "      <th>Administrative_Duration</th>\n",
              "      <th>Informational</th>\n",
              "      <th>Informational_Duration</th>\n",
              "      <th>ProductRelated</th>\n",
              "      <th>ProductRelated_Duration</th>\n",
              "      <th>BounceRates</th>\n",
              "      <th>ExitRates</th>\n",
              "      <th>PageValues</th>\n",
              "      <th>SpecialDay</th>\n",
              "      <th>Month</th>\n",
              "      <th>OperatingSystems</th>\n",
              "      <th>Browser</th>\n",
              "      <th>Region</th>\n",
              "      <th>TrafficType</th>\n",
              "      <th>VisitorType</th>\n",
              "      <th>Weekend</th>\n",
              "      <th>Revenue</th>\n",
              "    </tr>\n",
              "  </thead>\n",
              "  <tbody>\n",
              "    <tr>\n",
              "      <th>0</th>\n",
              "      <td>0</td>\n",
              "      <td>0.0</td>\n",
              "      <td>0</td>\n",
              "      <td>0.0</td>\n",
              "      <td>1</td>\n",
              "      <td>0.000000</td>\n",
              "      <td>0.20</td>\n",
              "      <td>0.20</td>\n",
              "      <td>0.0</td>\n",
              "      <td>0.0</td>\n",
              "      <td>Feb</td>\n",
              "      <td>1</td>\n",
              "      <td>1</td>\n",
              "      <td>1</td>\n",
              "      <td>1</td>\n",
              "      <td>Returning_Visitor</td>\n",
              "      <td>False</td>\n",
              "      <td>False</td>\n",
              "    </tr>\n",
              "    <tr>\n",
              "      <th>1</th>\n",
              "      <td>0</td>\n",
              "      <td>0.0</td>\n",
              "      <td>0</td>\n",
              "      <td>0.0</td>\n",
              "      <td>2</td>\n",
              "      <td>64.000000</td>\n",
              "      <td>0.00</td>\n",
              "      <td>0.10</td>\n",
              "      <td>0.0</td>\n",
              "      <td>0.0</td>\n",
              "      <td>Feb</td>\n",
              "      <td>2</td>\n",
              "      <td>2</td>\n",
              "      <td>1</td>\n",
              "      <td>2</td>\n",
              "      <td>Returning_Visitor</td>\n",
              "      <td>False</td>\n",
              "      <td>False</td>\n",
              "    </tr>\n",
              "    <tr>\n",
              "      <th>2</th>\n",
              "      <td>0</td>\n",
              "      <td>0.0</td>\n",
              "      <td>0</td>\n",
              "      <td>0.0</td>\n",
              "      <td>1</td>\n",
              "      <td>0.000000</td>\n",
              "      <td>0.20</td>\n",
              "      <td>0.20</td>\n",
              "      <td>0.0</td>\n",
              "      <td>0.0</td>\n",
              "      <td>Feb</td>\n",
              "      <td>4</td>\n",
              "      <td>1</td>\n",
              "      <td>9</td>\n",
              "      <td>3</td>\n",
              "      <td>Returning_Visitor</td>\n",
              "      <td>False</td>\n",
              "      <td>False</td>\n",
              "    </tr>\n",
              "    <tr>\n",
              "      <th>3</th>\n",
              "      <td>0</td>\n",
              "      <td>0.0</td>\n",
              "      <td>0</td>\n",
              "      <td>0.0</td>\n",
              "      <td>2</td>\n",
              "      <td>2.666667</td>\n",
              "      <td>0.05</td>\n",
              "      <td>0.14</td>\n",
              "      <td>0.0</td>\n",
              "      <td>0.0</td>\n",
              "      <td>Feb</td>\n",
              "      <td>3</td>\n",
              "      <td>2</td>\n",
              "      <td>2</td>\n",
              "      <td>4</td>\n",
              "      <td>Returning_Visitor</td>\n",
              "      <td>False</td>\n",
              "      <td>False</td>\n",
              "    </tr>\n",
              "    <tr>\n",
              "      <th>4</th>\n",
              "      <td>0</td>\n",
              "      <td>0.0</td>\n",
              "      <td>0</td>\n",
              "      <td>0.0</td>\n",
              "      <td>10</td>\n",
              "      <td>627.500000</td>\n",
              "      <td>0.02</td>\n",
              "      <td>0.05</td>\n",
              "      <td>0.0</td>\n",
              "      <td>0.0</td>\n",
              "      <td>Feb</td>\n",
              "      <td>3</td>\n",
              "      <td>3</td>\n",
              "      <td>1</td>\n",
              "      <td>4</td>\n",
              "      <td>Returning_Visitor</td>\n",
              "      <td>True</td>\n",
              "      <td>False</td>\n",
              "    </tr>\n",
              "  </tbody>\n",
              "</table>\n",
              "</div>\n",
              "      <button class=\"colab-df-convert\" onclick=\"convertToInteractive('df-48527423-b54f-45cb-a890-613f87cbcd50')\"\n",
              "              title=\"Convert this dataframe to an interactive table.\"\n",
              "              style=\"display:none;\">\n",
              "        \n",
              "  <svg xmlns=\"http://www.w3.org/2000/svg\" height=\"24px\"viewBox=\"0 0 24 24\"\n",
              "       width=\"24px\">\n",
              "    <path d=\"M0 0h24v24H0V0z\" fill=\"none\"/>\n",
              "    <path d=\"M18.56 5.44l.94 2.06.94-2.06 2.06-.94-2.06-.94-.94-2.06-.94 2.06-2.06.94zm-11 1L8.5 8.5l.94-2.06 2.06-.94-2.06-.94L8.5 2.5l-.94 2.06-2.06.94zm10 10l.94 2.06.94-2.06 2.06-.94-2.06-.94-.94-2.06-.94 2.06-2.06.94z\"/><path d=\"M17.41 7.96l-1.37-1.37c-.4-.4-.92-.59-1.43-.59-.52 0-1.04.2-1.43.59L10.3 9.45l-7.72 7.72c-.78.78-.78 2.05 0 2.83L4 21.41c.39.39.9.59 1.41.59.51 0 1.02-.2 1.41-.59l7.78-7.78 2.81-2.81c.8-.78.8-2.07 0-2.86zM5.41 20L4 18.59l7.72-7.72 1.47 1.35L5.41 20z\"/>\n",
              "  </svg>\n",
              "      </button>\n",
              "      \n",
              "  <style>\n",
              "    .colab-df-container {\n",
              "      display:flex;\n",
              "      flex-wrap:wrap;\n",
              "      gap: 12px;\n",
              "    }\n",
              "\n",
              "    .colab-df-convert {\n",
              "      background-color: #E8F0FE;\n",
              "      border: none;\n",
              "      border-radius: 50%;\n",
              "      cursor: pointer;\n",
              "      display: none;\n",
              "      fill: #1967D2;\n",
              "      height: 32px;\n",
              "      padding: 0 0 0 0;\n",
              "      width: 32px;\n",
              "    }\n",
              "\n",
              "    .colab-df-convert:hover {\n",
              "      background-color: #E2EBFA;\n",
              "      box-shadow: 0px 1px 2px rgba(60, 64, 67, 0.3), 0px 1px 3px 1px rgba(60, 64, 67, 0.15);\n",
              "      fill: #174EA6;\n",
              "    }\n",
              "\n",
              "    [theme=dark] .colab-df-convert {\n",
              "      background-color: #3B4455;\n",
              "      fill: #D2E3FC;\n",
              "    }\n",
              "\n",
              "    [theme=dark] .colab-df-convert:hover {\n",
              "      background-color: #434B5C;\n",
              "      box-shadow: 0px 1px 3px 1px rgba(0, 0, 0, 0.15);\n",
              "      filter: drop-shadow(0px 1px 2px rgba(0, 0, 0, 0.3));\n",
              "      fill: #FFFFFF;\n",
              "    }\n",
              "  </style>\n",
              "\n",
              "      <script>\n",
              "        const buttonEl =\n",
              "          document.querySelector('#df-48527423-b54f-45cb-a890-613f87cbcd50 button.colab-df-convert');\n",
              "        buttonEl.style.display =\n",
              "          google.colab.kernel.accessAllowed ? 'block' : 'none';\n",
              "\n",
              "        async function convertToInteractive(key) {\n",
              "          const element = document.querySelector('#df-48527423-b54f-45cb-a890-613f87cbcd50');\n",
              "          const dataTable =\n",
              "            await google.colab.kernel.invokeFunction('convertToInteractive',\n",
              "                                                     [key], {});\n",
              "          if (!dataTable) return;\n",
              "\n",
              "          const docLinkHtml = 'Like what you see? Visit the ' +\n",
              "            '<a target=\"_blank\" href=https://colab.research.google.com/notebooks/data_table.ipynb>data table notebook</a>'\n",
              "            + ' to learn more about interactive tables.';\n",
              "          element.innerHTML = '';\n",
              "          dataTable['output_type'] = 'display_data';\n",
              "          await google.colab.output.renderOutput(dataTable, element);\n",
              "          const docLink = document.createElement('div');\n",
              "          docLink.innerHTML = docLinkHtml;\n",
              "          element.appendChild(docLink);\n",
              "        }\n",
              "      </script>\n",
              "    </div>\n",
              "  </div>\n",
              "  "
            ]
          },
          "metadata": {},
          "execution_count": 3
        }
      ],
      "source": [
        "import pandas as pd\n",
        "df = pd.read_csv('/content/drive/MyDrive/online_shoppers_intention (1).csv')\n",
        "df.head()"
      ]
    },
    {
      "cell_type": "code",
      "source": [
        "from sklearn.preprocessing import LabelEncoder\n",
        "\n",
        "le = LabelEncoder()\n",
        "df['VisitorType'] = le.fit_transform(df['VisitorType'])\n",
        "df['Month'] = le.fit_transform(df['Month'])\n",
        "df['Weekend'] = le.fit_transform(df['Weekend'])\n",
        "df['Revenue'] = le.fit_transform(df['Revenue'])\n",
        "df.head()"
      ],
      "metadata": {
        "colab": {
          "base_uri": "https://localhost:8080/",
          "height": 270
        },
        "id": "sZKL47XB4fqv",
        "outputId": "b1e8f3bd-8779-488a-f328-20f00149edcf"
      },
      "execution_count": 4,
      "outputs": [
        {
          "output_type": "execute_result",
          "data": {
            "text/plain": [
              "   Administrative  Administrative_Duration  Informational  \\\n",
              "0               0                      0.0              0   \n",
              "1               0                      0.0              0   \n",
              "2               0                      0.0              0   \n",
              "3               0                      0.0              0   \n",
              "4               0                      0.0              0   \n",
              "\n",
              "   Informational_Duration  ProductRelated  ProductRelated_Duration  \\\n",
              "0                     0.0               1                 0.000000   \n",
              "1                     0.0               2                64.000000   \n",
              "2                     0.0               1                 0.000000   \n",
              "3                     0.0               2                 2.666667   \n",
              "4                     0.0              10               627.500000   \n",
              "\n",
              "   BounceRates  ExitRates  PageValues  SpecialDay  Month  OperatingSystems  \\\n",
              "0         0.20       0.20         0.0         0.0      2                 1   \n",
              "1         0.00       0.10         0.0         0.0      2                 2   \n",
              "2         0.20       0.20         0.0         0.0      2                 4   \n",
              "3         0.05       0.14         0.0         0.0      2                 3   \n",
              "4         0.02       0.05         0.0         0.0      2                 3   \n",
              "\n",
              "   Browser  Region  TrafficType  VisitorType  Weekend  Revenue  \n",
              "0        1       1            1            2        0        0  \n",
              "1        2       1            2            2        0        0  \n",
              "2        1       9            3            2        0        0  \n",
              "3        2       2            4            2        0        0  \n",
              "4        3       1            4            2        1        0  "
            ],
            "text/html": [
              "\n",
              "  <div id=\"df-7922cd17-7569-4668-bb6f-8203210968a8\">\n",
              "    <div class=\"colab-df-container\">\n",
              "      <div>\n",
              "<style scoped>\n",
              "    .dataframe tbody tr th:only-of-type {\n",
              "        vertical-align: middle;\n",
              "    }\n",
              "\n",
              "    .dataframe tbody tr th {\n",
              "        vertical-align: top;\n",
              "    }\n",
              "\n",
              "    .dataframe thead th {\n",
              "        text-align: right;\n",
              "    }\n",
              "</style>\n",
              "<table border=\"1\" class=\"dataframe\">\n",
              "  <thead>\n",
              "    <tr style=\"text-align: right;\">\n",
              "      <th></th>\n",
              "      <th>Administrative</th>\n",
              "      <th>Administrative_Duration</th>\n",
              "      <th>Informational</th>\n",
              "      <th>Informational_Duration</th>\n",
              "      <th>ProductRelated</th>\n",
              "      <th>ProductRelated_Duration</th>\n",
              "      <th>BounceRates</th>\n",
              "      <th>ExitRates</th>\n",
              "      <th>PageValues</th>\n",
              "      <th>SpecialDay</th>\n",
              "      <th>Month</th>\n",
              "      <th>OperatingSystems</th>\n",
              "      <th>Browser</th>\n",
              "      <th>Region</th>\n",
              "      <th>TrafficType</th>\n",
              "      <th>VisitorType</th>\n",
              "      <th>Weekend</th>\n",
              "      <th>Revenue</th>\n",
              "    </tr>\n",
              "  </thead>\n",
              "  <tbody>\n",
              "    <tr>\n",
              "      <th>0</th>\n",
              "      <td>0</td>\n",
              "      <td>0.0</td>\n",
              "      <td>0</td>\n",
              "      <td>0.0</td>\n",
              "      <td>1</td>\n",
              "      <td>0.000000</td>\n",
              "      <td>0.20</td>\n",
              "      <td>0.20</td>\n",
              "      <td>0.0</td>\n",
              "      <td>0.0</td>\n",
              "      <td>2</td>\n",
              "      <td>1</td>\n",
              "      <td>1</td>\n",
              "      <td>1</td>\n",
              "      <td>1</td>\n",
              "      <td>2</td>\n",
              "      <td>0</td>\n",
              "      <td>0</td>\n",
              "    </tr>\n",
              "    <tr>\n",
              "      <th>1</th>\n",
              "      <td>0</td>\n",
              "      <td>0.0</td>\n",
              "      <td>0</td>\n",
              "      <td>0.0</td>\n",
              "      <td>2</td>\n",
              "      <td>64.000000</td>\n",
              "      <td>0.00</td>\n",
              "      <td>0.10</td>\n",
              "      <td>0.0</td>\n",
              "      <td>0.0</td>\n",
              "      <td>2</td>\n",
              "      <td>2</td>\n",
              "      <td>2</td>\n",
              "      <td>1</td>\n",
              "      <td>2</td>\n",
              "      <td>2</td>\n",
              "      <td>0</td>\n",
              "      <td>0</td>\n",
              "    </tr>\n",
              "    <tr>\n",
              "      <th>2</th>\n",
              "      <td>0</td>\n",
              "      <td>0.0</td>\n",
              "      <td>0</td>\n",
              "      <td>0.0</td>\n",
              "      <td>1</td>\n",
              "      <td>0.000000</td>\n",
              "      <td>0.20</td>\n",
              "      <td>0.20</td>\n",
              "      <td>0.0</td>\n",
              "      <td>0.0</td>\n",
              "      <td>2</td>\n",
              "      <td>4</td>\n",
              "      <td>1</td>\n",
              "      <td>9</td>\n",
              "      <td>3</td>\n",
              "      <td>2</td>\n",
              "      <td>0</td>\n",
              "      <td>0</td>\n",
              "    </tr>\n",
              "    <tr>\n",
              "      <th>3</th>\n",
              "      <td>0</td>\n",
              "      <td>0.0</td>\n",
              "      <td>0</td>\n",
              "      <td>0.0</td>\n",
              "      <td>2</td>\n",
              "      <td>2.666667</td>\n",
              "      <td>0.05</td>\n",
              "      <td>0.14</td>\n",
              "      <td>0.0</td>\n",
              "      <td>0.0</td>\n",
              "      <td>2</td>\n",
              "      <td>3</td>\n",
              "      <td>2</td>\n",
              "      <td>2</td>\n",
              "      <td>4</td>\n",
              "      <td>2</td>\n",
              "      <td>0</td>\n",
              "      <td>0</td>\n",
              "    </tr>\n",
              "    <tr>\n",
              "      <th>4</th>\n",
              "      <td>0</td>\n",
              "      <td>0.0</td>\n",
              "      <td>0</td>\n",
              "      <td>0.0</td>\n",
              "      <td>10</td>\n",
              "      <td>627.500000</td>\n",
              "      <td>0.02</td>\n",
              "      <td>0.05</td>\n",
              "      <td>0.0</td>\n",
              "      <td>0.0</td>\n",
              "      <td>2</td>\n",
              "      <td>3</td>\n",
              "      <td>3</td>\n",
              "      <td>1</td>\n",
              "      <td>4</td>\n",
              "      <td>2</td>\n",
              "      <td>1</td>\n",
              "      <td>0</td>\n",
              "    </tr>\n",
              "  </tbody>\n",
              "</table>\n",
              "</div>\n",
              "      <button class=\"colab-df-convert\" onclick=\"convertToInteractive('df-7922cd17-7569-4668-bb6f-8203210968a8')\"\n",
              "              title=\"Convert this dataframe to an interactive table.\"\n",
              "              style=\"display:none;\">\n",
              "        \n",
              "  <svg xmlns=\"http://www.w3.org/2000/svg\" height=\"24px\"viewBox=\"0 0 24 24\"\n",
              "       width=\"24px\">\n",
              "    <path d=\"M0 0h24v24H0V0z\" fill=\"none\"/>\n",
              "    <path d=\"M18.56 5.44l.94 2.06.94-2.06 2.06-.94-2.06-.94-.94-2.06-.94 2.06-2.06.94zm-11 1L8.5 8.5l.94-2.06 2.06-.94-2.06-.94L8.5 2.5l-.94 2.06-2.06.94zm10 10l.94 2.06.94-2.06 2.06-.94-2.06-.94-.94-2.06-.94 2.06-2.06.94z\"/><path d=\"M17.41 7.96l-1.37-1.37c-.4-.4-.92-.59-1.43-.59-.52 0-1.04.2-1.43.59L10.3 9.45l-7.72 7.72c-.78.78-.78 2.05 0 2.83L4 21.41c.39.39.9.59 1.41.59.51 0 1.02-.2 1.41-.59l7.78-7.78 2.81-2.81c.8-.78.8-2.07 0-2.86zM5.41 20L4 18.59l7.72-7.72 1.47 1.35L5.41 20z\"/>\n",
              "  </svg>\n",
              "      </button>\n",
              "      \n",
              "  <style>\n",
              "    .colab-df-container {\n",
              "      display:flex;\n",
              "      flex-wrap:wrap;\n",
              "      gap: 12px;\n",
              "    }\n",
              "\n",
              "    .colab-df-convert {\n",
              "      background-color: #E8F0FE;\n",
              "      border: none;\n",
              "      border-radius: 50%;\n",
              "      cursor: pointer;\n",
              "      display: none;\n",
              "      fill: #1967D2;\n",
              "      height: 32px;\n",
              "      padding: 0 0 0 0;\n",
              "      width: 32px;\n",
              "    }\n",
              "\n",
              "    .colab-df-convert:hover {\n",
              "      background-color: #E2EBFA;\n",
              "      box-shadow: 0px 1px 2px rgba(60, 64, 67, 0.3), 0px 1px 3px 1px rgba(60, 64, 67, 0.15);\n",
              "      fill: #174EA6;\n",
              "    }\n",
              "\n",
              "    [theme=dark] .colab-df-convert {\n",
              "      background-color: #3B4455;\n",
              "      fill: #D2E3FC;\n",
              "    }\n",
              "\n",
              "    [theme=dark] .colab-df-convert:hover {\n",
              "      background-color: #434B5C;\n",
              "      box-shadow: 0px 1px 3px 1px rgba(0, 0, 0, 0.15);\n",
              "      filter: drop-shadow(0px 1px 2px rgba(0, 0, 0, 0.3));\n",
              "      fill: #FFFFFF;\n",
              "    }\n",
              "  </style>\n",
              "\n",
              "      <script>\n",
              "        const buttonEl =\n",
              "          document.querySelector('#df-7922cd17-7569-4668-bb6f-8203210968a8 button.colab-df-convert');\n",
              "        buttonEl.style.display =\n",
              "          google.colab.kernel.accessAllowed ? 'block' : 'none';\n",
              "\n",
              "        async function convertToInteractive(key) {\n",
              "          const element = document.querySelector('#df-7922cd17-7569-4668-bb6f-8203210968a8');\n",
              "          const dataTable =\n",
              "            await google.colab.kernel.invokeFunction('convertToInteractive',\n",
              "                                                     [key], {});\n",
              "          if (!dataTable) return;\n",
              "\n",
              "          const docLinkHtml = 'Like what you see? Visit the ' +\n",
              "            '<a target=\"_blank\" href=https://colab.research.google.com/notebooks/data_table.ipynb>data table notebook</a>'\n",
              "            + ' to learn more about interactive tables.';\n",
              "          element.innerHTML = '';\n",
              "          dataTable['output_type'] = 'display_data';\n",
              "          await google.colab.output.renderOutput(dataTable, element);\n",
              "          const docLink = document.createElement('div');\n",
              "          docLink.innerHTML = docLinkHtml;\n",
              "          element.appendChild(docLink);\n",
              "        }\n",
              "      </script>\n",
              "    </div>\n",
              "  </div>\n",
              "  "
            ]
          },
          "metadata": {},
          "execution_count": 4
        }
      ]
    },
    {
      "cell_type": "code",
      "source": [
        "X = df[['ProductRelated_Duration','Administrative_Duration','Informational_Duration','VisitorType','SpecialDay','PageValues','Region','Month']]\n",
        "y = df['Revenue']\n",
        "from sklearn.model_selection import train_test_split\n",
        "X_train,X_test,y_train,y_test = train_test_split(X,y,test_size=0.2)"
      ],
      "metadata": {
        "id": "ieu_PONX4nd_"
      },
      "execution_count": 5,
      "outputs": []
    },
    {
      "cell_type": "markdown",
      "source": [
        "## Model"
      ],
      "metadata": {
        "id": "pFwtikBL41gD"
      }
    },
    {
      "cell_type": "code",
      "source": [
        "class Plot():\n",
        "    def __init__(self): \n",
        "        self.cmap = plt.get_cmap('viridis')\n",
        "\n",
        "    def _transform(self, X, dim):\n",
        "        covariance = calculate_covariance_matrix(X)\n",
        "        eigenvalues, eigenvectors = np.linalg.eig(covariance)\n",
        "        # Sort eigenvalues and eigenvector by largest eigenvalues\n",
        "        idx = eigenvalues.argsort()[::-1]\n",
        "        eigenvalues = eigenvalues[idx][:dim]\n",
        "        eigenvectors = np.atleast_1d(eigenvectors[:, idx])[:, :dim]\n",
        "        # Project the data onto principal components\n",
        "        X_transformed = X.dot(eigenvectors)\n",
        "\n",
        "        return X_transformed\n",
        "\n",
        "\n",
        "    def plot_regression(self, lines, title, axis_labels=None, mse=None, scatter=None, legend={\"type\": \"lines\", \"loc\": \"lower right\"}):\n",
        "        \n",
        "        if scatter:\n",
        "            scatter_plots = scatter_labels = []\n",
        "            for s in scatter:\n",
        "                scatter_plots += [plt.scatter(s[\"x\"], s[\"y\"], color=s[\"color\"], s=s[\"size\"])]\n",
        "                scatter_labels += [s[\"label\"]]\n",
        "            scatter_plots = tuple(scatter_plots)\n",
        "            scatter_labels = tuple(scatter_labels)\n",
        "\n",
        "        for l in lines:\n",
        "            li = plt.plot(l[\"x\"], l[\"y\"], color=s[\"color\"], linewidth=l[\"width\"], label=l[\"label\"])\n",
        "\n",
        "        if mse:\n",
        "            plt.suptitle(title)\n",
        "            plt.title(\"MSE: %.2f\" % mse, fontsize=10)\n",
        "        else:\n",
        "            plt.title(title)\n",
        "\n",
        "        if axis_labels:\n",
        "            plt.xlabel(axis_labels[\"x\"])\n",
        "            plt.ylabel(axis_labels[\"y\"])\n",
        "\n",
        "        if legend[\"type\"] == \"lines\":\n",
        "            plt.legend(loc=\"lower_left\")\n",
        "        elif legend[\"type\"] == \"scatter\" and scatter:\n",
        "            plt.legend(scatter_plots, scatter_labels, loc=legend[\"loc\"])\n",
        "\n",
        "        plt.show()\n",
        "\n",
        "\n",
        "\n",
        "    # Plot the dataset X and the corresponding labels y in 2D using PCA.\n",
        "    def plot_in_2d(self, X, y=None, title=None, accuracy=None, legend_labels=None):\n",
        "        X_transformed = self._transform(X, dim=2)\n",
        "        x1 = X_transformed[:, 0]\n",
        "        x2 = X_transformed[:, 1]\n",
        "        class_distr = []\n",
        "\n",
        "        y = np.array(y).astype(int)\n",
        "\n",
        "        colors = [self.cmap(i) for i in np.linspace(0, 1, len(np.unique(y)))]\n",
        "\n",
        "        # Plot the different class distributions\n",
        "        for i, l in enumerate(np.unique(y)):\n",
        "            _x1 = x1[y == l]\n",
        "            _x2 = x2[y == l]\n",
        "            _y = y[y == l]\n",
        "            class_distr.append(plt.scatter(_x1, _x2, color=colors[i]))\n",
        "\n",
        "        # Plot legend\n",
        "        if not legend_labels is None: \n",
        "            plt.legend(class_distr, legend_labels, loc=1)\n",
        "\n",
        "        # Plot title\n",
        "        if title:\n",
        "            if accuracy:\n",
        "                perc = 100 * accuracy\n",
        "                plt.suptitle(title)\n",
        "                plt.title(\"Accuracy: %.1f%%\" % perc, fontsize=10)\n",
        "            else:\n",
        "                plt.title(title)\n",
        "\n",
        "        # Axis labels\n",
        "        plt.xlabel('Principal Component 1')\n",
        "        plt.ylabel('Principal Component 2')\n",
        "\n",
        "        plt.show()\n",
        "\n",
        "    # Plot the dataset X and the corresponding labels y in 3D using PCA.\n",
        "    def plot_in_3d(self, X, y=None):\n",
        "        X_transformed = self._transform(X, dim=3)\n",
        "        x1 = X_transformed[:, 0]\n",
        "        x2 = X_transformed[:, 1]\n",
        "        x3 = X_transformed[:, 2]\n",
        "        fig = plt.figure()\n",
        "        ax = fig.add_subplot(111, projection='3d')\n",
        "        ax.scatter(x1, x2, x3, c=y)\n",
        "        plt.show()\n"
      ],
      "metadata": {
        "id": "h1H4enTV4nzu"
      },
      "execution_count": 7,
      "outputs": []
    },
    {
      "cell_type": "code",
      "source": [
        "def to_categorical(x, n_col=None):\n",
        "    \"\"\" One-hot encoding of nominal values \"\"\"\n",
        "    if not n_col:\n",
        "        n_col = np.amax(x) + 1\n",
        "    one_hot = np.zeros((x.shape[0], n_col))\n",
        "    one_hot[np.arange(x.shape[0]), x] = 1\n",
        "    return one_hot\n",
        "\n",
        "\n",
        "def to_nominal(x):\n",
        "    \"\"\" Conversion from one-hot encoding to nominal \"\"\"\n",
        "    return np.argmax(x, axis=1)\n",
        "\n",
        "\n",
        "def make_diagonal(x):\n",
        "    \"\"\" Converts a vector into an diagonal matrix \"\"\"\n",
        "    m = np.zeros((len(x), len(x)))\n",
        "    for i in range(len(m[0])):\n",
        "        m[i, i] = x[i]\n",
        "    return m"
      ],
      "metadata": {
        "id": "n6nNuo2CFSIr"
      },
      "execution_count": 8,
      "outputs": []
    },
    {
      "cell_type": "code",
      "source": [
        "from __future__ import division, print_function\n",
        "import numpy as np\n",
        "import progressbar\n",
        "bar_widgets = [\n",
        "    'Training: ', progressbar.Percentage(), ' ', progressbar.Bar(marker=\"-\", left=\"[\", right=\"]\"),\n",
        "    ' ', progressbar.ETA()\n",
        "]\n",
        "\n",
        "class Sigmoid():\n",
        "    def __call__(self, x):\n",
        "        return 1 / (1 + np.exp(-x))\n",
        "\n",
        "    def gradient(self, x):\n",
        "        return self.__call__(x) * (1 - self.__call__(x))"
      ],
      "metadata": {
        "id": "U9UKUf2SEdHA"
      },
      "execution_count": 9,
      "outputs": []
    },
    {
      "cell_type": "code",
      "source": [
        "from __future__ import division\n",
        "import numpy as np\n",
        "import math\n",
        "import sys\n",
        "\n",
        "\n",
        "def calculate_entropy(y):\n",
        "    \"\"\" Calculate the entropy of label array y \"\"\"\n",
        "    log2 = lambda x: math.log(x) / math.log(2)\n",
        "    unique_labels = np.unique(y)\n",
        "    entropy = 0\n",
        "    for label in unique_labels:\n",
        "        count = len(y[y == label])\n",
        "        p = count / len(y)\n",
        "        entropy += -p * log2(p)\n",
        "    return entropy\n",
        "\n",
        "\n",
        "def mean_squared_error(y_true, y_pred):\n",
        "    \"\"\" Returns the mean squared error between y_true and y_pred \"\"\"\n",
        "    mse = np.mean(np.power(y_true - y_pred, 2))\n",
        "    return mse\n",
        "\n",
        "\n",
        "def calculate_variance(X):\n",
        "    \"\"\" Return the variance of the features in dataset X \"\"\"\n",
        "    mean = np.ones(np.shape(X)) * X.mean(0)\n",
        "    n_samples = np.shape(X)[0]\n",
        "    variance = (1 / n_samples) * np.diag((X - mean).T.dot(X - mean))\n",
        "    \n",
        "    return variance\n",
        "\n",
        "\n",
        "def calculate_std_dev(X):\n",
        "    \"\"\" Calculate the standard deviations of the features in dataset X \"\"\"\n",
        "    std_dev = np.sqrt(calculate_variance(X))\n",
        "    return std_dev\n",
        "\n",
        "\n",
        "def euclidean_distance(x1, x2):\n",
        "    \"\"\" Calculates the l2 distance between two vectors \"\"\"\n",
        "    distance = 0\n",
        "    # Squared distance between each coordinate\n",
        "    for i in range(len(x1)):\n",
        "        distance += pow((x1[i] - x2[i]), 2)\n",
        "    return math.sqrt(distance)\n",
        "\n",
        "\n",
        "def accuracy_score(y_true, y_pred):\n",
        "    \"\"\" Compare y_true to y_pred and return the accuracy \"\"\"\n",
        "    accuracy = np.sum(y_true == y_pred, axis=0) / len(y_true)\n",
        "    return accuracy\n",
        "\n",
        "\n",
        "def calculate_covariance_matrix(X, Y=None):\n",
        "    \"\"\" Calculate the covariance matrix for the dataset X \"\"\"\n",
        "    if Y is None:\n",
        "        Y = X\n",
        "    n_samples = np.shape(X)[0]\n",
        "    covariance_matrix = (1 / (n_samples-1)) * (X - X.mean(axis=0)).T.dot(Y - Y.mean(axis=0))\n",
        "\n",
        "    return np.array(covariance_matrix, dtype=float)\n",
        " \n",
        "\n",
        "def calculate_correlation_matrix(X, Y=None):\n",
        "    \"\"\" Calculate the correlation matrix for the dataset X \"\"\"\n",
        "    if Y is None:\n",
        "        Y = X\n",
        "    n_samples = np.shape(X)[0]\n",
        "    covariance = (1 / n_samples) * (X - X.mean(0)).T.dot(Y - Y.mean(0))\n",
        "    std_dev_X = np.expand_dims(calculate_std_dev(X), 1)\n",
        "    std_dev_y = np.expand_dims(calculate_std_dev(Y), 1)\n",
        "    correlation_matrix = np.divide(covariance, std_dev_X.dot(std_dev_y.T))\n",
        "\n",
        "    return np.array(correlation_matrix, dtype=float)"
      ],
      "metadata": {
        "id": "iWzpMSZP4oDN"
      },
      "execution_count": 10,
      "outputs": []
    },
    {
      "cell_type": "code",
      "source": [
        "class LogisticRegression():\n",
        "    \"\"\" Logistic Regression classifier.\n",
        "    Parameters:\n",
        "    -----------\n",
        "    learning_rate: float\n",
        "        The step length that will be taken when following the negative gradient during\n",
        "        training.\n",
        "    gradient_descent: boolean\n",
        "        True or false depending if gradient descent should be used when training. If\n",
        "        false then we use batch optimization by least squares.\n",
        "    \"\"\"\n",
        "    def __init__(self, learning_rate=.1, gradient_descent=True):\n",
        "        self.param = None\n",
        "        self.learning_rate = learning_rate\n",
        "        self.gradient_descent = gradient_descent\n",
        "        self.sigmoid = Sigmoid()\n",
        "\n",
        "    def _initialize_parameters(self, X):\n",
        "        n_features = np.shape(X)[1]\n",
        "        # Initialize parameters between [-1/sqrt(N), 1/sqrt(N)]\n",
        "        limit = 1 / math.sqrt(n_features)\n",
        "        self.param = np.random.uniform(-limit, limit, (n_features,))\n",
        "\n",
        "    def fit(self, X, y, n_iterations=4000):\n",
        "        self._initialize_parameters(X)\n",
        "        # Tune parameters for n iterations\n",
        "        for i in range(n_iterations):\n",
        "            # Make a new prediction\n",
        "            y_pred = self.sigmoid(X.dot(self.param))\n",
        "            if self.gradient_descent:\n",
        "                # Move against the gradient of the loss function with\n",
        "                # respect to the parameters to minimize the loss\n",
        "                self.param -= self.learning_rate * -(y - y_pred).dot(X)\n",
        "            else:\n",
        "                # Make a diagonal matrix of the sigmoid gradient column vector\n",
        "                diag_gradient = make_diagonal(self.sigmoid.gradient(X.dot(self.param)))\n",
        "                # Batch opt:\n",
        "                self.param = np.linalg.pinv(X.T.dot(diag_gradient).dot(X)).dot(X.T).dot(diag_gradient.dot(X).dot(self.param) + y - y_pred)\n",
        "\n",
        "    def predict(self, X):\n",
        "        y_pred = np.round(self.sigmoid(X.dot(self.param))).astype(int)\n",
        "        return y_pred"
      ],
      "metadata": {
        "id": "SjtvZYIM494l"
      },
      "execution_count": 11,
      "outputs": []
    },
    {
      "cell_type": "code",
      "source": [
        "def rbf_kernel(gamma, **kwargs):\n",
        "    def f(x1, x2):\n",
        "        distance = np.linalg.norm(x1 - x2) ** 2\n",
        "        return np.exp(-gamma * distance)\n",
        "    return"
      ],
      "metadata": {
        "id": "58DnTX2R5BlQ"
      },
      "execution_count": 12,
      "outputs": []
    },
    {
      "cell_type": "code",
      "source": [
        "class SupportVectorMachine(object):\n",
        "    \"\"\"The Support Vector Machine classifier.\n",
        "    Uses cvxopt to solve the quadratic optimization problem.\n",
        "    Parameters:\n",
        "    -----------\n",
        "    C: float\n",
        "        Penalty term.\n",
        "    kernel: function\n",
        "        Kernel function. Can be either polynomial, rbf or linear.\n",
        "    power: int\n",
        "        The degree of the polynomial kernel. Will be ignored by the other\n",
        "        kernel functions.\n",
        "    gamma: float\n",
        "        Used in the rbf kernel function.\n",
        "    coef: float\n",
        "        Bias term used in the polynomial kernel function.\n",
        "    \"\"\"\n",
        "    def __init__(self, C=1, kernel=rbf_kernel, power=4, gamma=None, coef=4):\n",
        "        self.C = C\n",
        "        self.kernel = kernel\n",
        "        self.power = power\n",
        "        self.gamma = gamma\n",
        "        self.coef = coef\n",
        "        self.lagr_multipliers = None\n",
        "        self.support_vectors = None\n",
        "        self.support_vector_labels = None\n",
        "        self.intercept = None\n",
        "\n",
        "    def fit(self, X, y):\n",
        "\n",
        "        n_samples, n_features = np.shape(X)\n",
        "\n",
        "        # Set gamma to 1/n_features by default\n",
        "        if not self.gamma:\n",
        "            self.gamma = 1 / n_features\n",
        "\n",
        "        # Initialize kernel method with parameters\n",
        "        self.kernel = self.kernel(\n",
        "            power=self.power,\n",
        "            gamma=self.gamma,\n",
        "            coef=self.coef)\n",
        "\n",
        "        # Calculate kernel matrix\n",
        "        kernel_matrix = np.zeros((n_samples, n_samples))\n",
        "        for i in range(n_samples):\n",
        "            for j in range(n_samples):\n",
        "                kernel_matrix[i, j] = self.kernel(X[i], X[j])\n",
        "\n",
        "        # Define the quadratic optimization problem\n",
        "        P = cvxopt.matrix(np.outer(y, y) * kernel_matrix, tc='d')\n",
        "        q = cvxopt.matrix(np.ones(n_samples) * -1)\n",
        "        A = cvxopt.matrix(y, (1, n_samples), tc='d')\n",
        "        b = cvxopt.matrix(0, tc='d')\n",
        "\n",
        "        if not self.C:\n",
        "            G = cvxopt.matrix(np.identity(n_samples) * -1)\n",
        "            h = cvxopt.matrix(np.zeros(n_samples))\n",
        "        else:\n",
        "            G_max = np.identity(n_samples) * -1\n",
        "            G_min = np.identity(n_samples)\n",
        "            G = cvxopt.matrix(np.vstack((G_max, G_min)))\n",
        "            h_max = cvxopt.matrix(np.zeros(n_samples))\n",
        "            h_min = cvxopt.matrix(np.ones(n_samples) * self.C)\n",
        "            h = cvxopt.matrix(np.vstack((h_max, h_min)))\n",
        "\n",
        "        # Solve the quadratic optimization problem using cvxopt\n",
        "        minimization = cvxopt.solvers.qp(P, q, G, h, A, b)\n",
        "\n",
        "        # Lagrange multipliers\n",
        "        lagr_mult = np.ravel(minimization['x'])\n",
        "\n",
        "        # Extract support vectors\n",
        "        # Get indexes of non-zero lagr. multipiers\n",
        "        idx = lagr_mult > 1e-7\n",
        "        # Get the corresponding lagr. multipliers\n",
        "        self.lagr_multipliers = lagr_mult[idx]\n",
        "        # Get the samples that will act as support vectors\n",
        "        self.support_vectors = X[idx]\n",
        "        # Get the corresponding labels\n",
        "        self.support_vector_labels = y[idx]\n",
        "\n",
        "        # Calculate intercept with first support vector\n",
        "        self.intercept = self.support_vector_labels[0]\n",
        "        for i in range(len(self.lagr_multipliers)):\n",
        "            self.intercept -= self.lagr_multipliers[i] * self.support_vector_labels[\n",
        "                i] * self.kernel(self.support_vectors[i], self.support_vectors[0])\n",
        "\n",
        "    def predict(self, X):\n",
        "        y_pred = []\n",
        "        # Iterate through list of samples and make predictions\n",
        "        for sample in X:\n",
        "            prediction = 0\n",
        "            # Determine the label of the sample by the support vectors\n",
        "            for i in range(len(self.lagr_multipliers)):\n",
        "                prediction += self.lagr_multipliers[i] * self.support_vector_labels[\n",
        "                    i] * self.kernel(self.support_vectors[i], sample)\n",
        "            prediction += self.intercept\n",
        "            y_pred.append(np.sign(prediction))\n",
        "        return np.array(y_pred)"
      ],
      "metadata": {
        "id": "JnMsmO2S5BzW"
      },
      "execution_count": 13,
      "outputs": []
    },
    {
      "cell_type": "code",
      "source": [
        "class RandomForest():\n",
        "    \"\"\"Random Forest classifier. Uses a collection of classification trees that\n",
        "    trains on random subsets of the data using a random subsets of the features.\n",
        "    Parameters:\n",
        "    -----------\n",
        "    n_estimators: int\n",
        "        The number of classification trees that are used.\n",
        "    max_features: int\n",
        "        The maximum number of features that the classification trees are allowed to\n",
        "        use.\n",
        "    min_samples_split: int\n",
        "        The minimum number of samples needed to make a split when building a tree.\n",
        "    min_gain: float\n",
        "        The minimum impurity required to split the tree further. \n",
        "    max_depth: int\n",
        "        The maximum depth of a tree.\n",
        "    \"\"\"\n",
        "    def __init__(self, n_estimators=100, max_features=None, min_samples_split=2,\n",
        "                 min_gain=0, max_depth=float(\"inf\")):\n",
        "        self.n_estimators = n_estimators    # Number of trees\n",
        "        self.max_features = max_features    # Maxmimum number of features per tree\n",
        "        self.min_samples_split = min_samples_split\n",
        "        self.min_gain = min_gain            # Minimum information gain req. to continue\n",
        "        self.max_depth = max_depth          # Maximum depth for tree\n",
        "        self.progressbar = progressbar.ProgressBar(widgets=bar_widgets)\n",
        "\n",
        "        # Initialize decision trees\n",
        "        self.trees = []\n",
        "        for _ in range(n_estimators):\n",
        "            self.trees.append(\n",
        "                ClassificationTree(\n",
        "                    min_samples_split=self.min_samples_split,\n",
        "                    min_impurity=min_gain,\n",
        "                    max_depth=self.max_depth))\n",
        "\n",
        "    def fit(self, X, y):\n",
        "        n_features = np.shape(X)[1]\n",
        "        # If max_features have not been defined => select it as\n",
        "        # sqrt(n_features)\n",
        "        if not self.max_features:\n",
        "            self.max_features = int(math.sqrt(n_features))\n",
        "\n",
        "        # Choose one random subset of the data for each tree\n",
        "        subsets = get_random_subsets(X, y, self.n_estimators)\n",
        "\n",
        "        for i in self.progressbar(range(self.n_estimators)):\n",
        "            X_subset, y_subset = subsets[i]\n",
        "            # Feature bagging (select random subsets of the features)\n",
        "            idx = np.random.choice(range(n_features), size=self.max_features, replace=True)\n",
        "            # Save the indices of the features for prediction\n",
        "            self.trees[i].feature_indices = idx\n",
        "            # Choose the features corresponding to the indices\n",
        "            X_subset = X_subset[:, idx]\n",
        "            # Fit the tree to the data\n",
        "            self.trees[i].fit(X_subset, y_subset)\n",
        "\n",
        "    def predict(self, X):\n",
        "        y_preds = np.empty((X.shape[0], len(self.trees)))\n",
        "        # Let each tree make a prediction on the data\n",
        "        for i, tree in enumerate(self.trees):\n",
        "            # Indices of the features that the tree has trained on\n",
        "            idx = tree.feature_indices\n",
        "            # Make a prediction based on those features\n",
        "            prediction = tree.predict(X[:, idx])\n",
        "            y_preds[:, i] = prediction\n",
        "            \n",
        "        y_pred = []\n",
        "        # For each sample\n",
        "        for sample_predictions in y_preds:\n",
        "            # Select the most common class prediction\n",
        "            y_pred.append(np.bincount(sample_predictions.astype('int')).argmax())\n",
        "        return y_pred"
      ],
      "metadata": {
        "id": "IV5r3AiS5B8k"
      },
      "execution_count": 14,
      "outputs": []
    },
    {
      "cell_type": "code",
      "source": [
        "class DecisionNode():\n",
        "    \"\"\"Class that represents a decision node or leaf in the decision tree\n",
        "    Parameters:\n",
        "    -----------\n",
        "    feature_i: int\n",
        "        Feature index which we want to use as the threshold measure.\n",
        "    threshold: float\n",
        "        The value that we will compare feature values at feature_i against to\n",
        "        determine the prediction.\n",
        "    value: float\n",
        "        The class prediction if classification tree, or float value if regression tree.\n",
        "    true_branch: DecisionNode\n",
        "        Next decision node for samples where features value met the threshold.\n",
        "    false_branch: DecisionNode\n",
        "        Next decision node for samples where features value did not meet the threshold.\n",
        "    \"\"\"\n",
        "    def __init__(self, feature_i=None, threshold=None,\n",
        "                 value=None, true_branch=None, false_branch=None):\n",
        "        self.feature_i = feature_i          # Index for the feature that is tested\n",
        "        self.threshold = threshold          # Threshold value for feature\n",
        "        self.value = value                  # Value if the node is a leaf in the tree\n",
        "        self.true_branch = true_branch      # 'Left' subtree\n",
        "        self.false_branch = false_branch    # 'Right' subtree\n",
        "\n",
        "\n",
        "# Super class of RegressionTree and ClassificationTree\n",
        "class DecisionTree(object):\n",
        "    \"\"\"Super class of RegressionTree and ClassificationTree.\n",
        "    Parameters:\n",
        "    -----------\n",
        "    min_samples_split: int\n",
        "        The minimum number of samples needed to make a split when building a tree.\n",
        "    min_impurity: float\n",
        "        The minimum impurity required to split the tree further.\n",
        "    max_depth: int\n",
        "        The maximum depth of a tree.\n",
        "    loss: function\n",
        "        Loss function that is used for Gradient Boosting models to calculate impurity.\n",
        "    \"\"\"\n",
        "    def __init__(self, min_samples_split=2, min_impurity=1e-7,\n",
        "                 max_depth=float(\"inf\"), loss=None):\n",
        "        self.root = None  # Root node in dec. tree\n",
        "        # Minimum n of samples to justify split\n",
        "        self.min_samples_split = min_samples_split\n",
        "        # The minimum impurity to justify split\n",
        "        self.min_impurity = min_impurity\n",
        "        # The maximum depth to grow the tree to\n",
        "        self.max_depth = max_depth\n",
        "        # Function to calculate impurity (classif.=>info gain, regr=>variance reduct.)\n",
        "        self._impurity_calculation = None\n",
        "        # Function to determine prediction of y at leaf\n",
        "        self._leaf_value_calculation = None\n",
        "        # If y is one-hot encoded (multi-dim) or not (one-dim)\n",
        "        self.one_dim = None\n",
        "        # If Gradient Boost\n",
        "        self.loss = loss\n",
        "\n",
        "    def fit(self, X, y, loss=None):\n",
        "        \"\"\" Build decision tree \"\"\"\n",
        "        self.one_dim = len(np.shape(y)) == 1\n",
        "        self.root = self._build_tree(X, y)\n",
        "        self.loss=None\n",
        "\n",
        "    def _build_tree(self, X, y, current_depth=0):\n",
        "        \"\"\" Recursive method which builds out the decision tree and splits X and respective y\n",
        "        on the feature of X which (based on impurity) best separates the data\"\"\"\n",
        "\n",
        "        largest_impurity = 0\n",
        "        best_criteria = None    # Feature index and threshold\n",
        "        best_sets = None        # Subsets of the data\n",
        "\n",
        "        # Check if expansion of y is needed\n",
        "        if len(np.shape(y)) == 1:\n",
        "            y = np.expand_dims(y, axis=1)\n",
        "\n",
        "        # Add y as last column of X\n",
        "        Xy = np.concatenate((X, y), axis=1)\n",
        "\n",
        "        n_samples, n_features = np.shape(X)\n",
        "\n",
        "        if n_samples >= self.min_samples_split and current_depth <= self.max_depth:\n",
        "            # Calculate the impurity for each feature\n",
        "            for feature_i in range(n_features):\n",
        "                # All values of feature_i\n",
        "                feature_values = np.expand_dims(X[:, feature_i], axis=1)\n",
        "                unique_values = np.unique(feature_values)\n",
        "\n",
        "                # Iterate through all unique values of feature column i and\n",
        "                # calculate the impurity\n",
        "                for threshold in unique_values:\n",
        "                    # Divide X and y depending on if the feature value of X at index feature_i\n",
        "                    # meets the threshold\n",
        "                    Xy1, Xy2 = divide_on_feature(Xy, feature_i, threshold)\n",
        "\n",
        "                    if len(Xy1) > 0 and len(Xy2) > 0:\n",
        "                        # Select the y-values of the two sets\n",
        "                        y1 = Xy1[:, n_features:]\n",
        "                        y2 = Xy2[:, n_features:]\n",
        "\n",
        "                        # Calculate impurity\n",
        "                        impurity = self._impurity_calculation(y, y1, y2)\n",
        "\n",
        "                        # If this threshold resulted in a higher information gain than previously\n",
        "                        # recorded save the threshold value and the feature\n",
        "                        # index\n",
        "                        if impurity > largest_impurity:\n",
        "                            largest_impurity = impurity\n",
        "                            best_criteria = {\"feature_i\": feature_i, \"threshold\": threshold}\n",
        "                            best_sets = {\n",
        "                                \"leftX\": Xy1[:, :n_features],   # X of left subtree\n",
        "                                \"lefty\": Xy1[:, n_features:],   # y of left subtree\n",
        "                                \"rightX\": Xy2[:, :n_features],  # X of right subtree\n",
        "                                \"righty\": Xy2[:, n_features:]   # y of right subtree\n",
        "                                }\n",
        "\n",
        "        if largest_impurity > self.min_impurity:\n",
        "            # Build subtrees for the right and left branches\n",
        "            true_branch = self._build_tree(best_sets[\"leftX\"], best_sets[\"lefty\"], current_depth + 1)\n",
        "            false_branch = self._build_tree(best_sets[\"rightX\"], best_sets[\"righty\"], current_depth + 1)\n",
        "            return DecisionNode(feature_i=best_criteria[\"feature_i\"], threshold=best_criteria[\n",
        "                                \"threshold\"], true_branch=true_branch, false_branch=false_branch)\n",
        "\n",
        "        # We're at leaf => determine value\n",
        "        leaf_value = self._leaf_value_calculation(y)\n",
        "\n",
        "        return DecisionNode(value=leaf_value)\n",
        "\n",
        "\n",
        "    def predict_value(self, x, tree=None):\n",
        "        \"\"\" Do a recursive search down the tree and make a prediction of the data sample by the\n",
        "            value of the leaf that we end up at \"\"\"\n",
        "\n",
        "        if tree is None:\n",
        "            tree = self.root\n",
        "\n",
        "        # If we have a value (i.e we're at a leaf) => return value as the prediction\n",
        "        if tree.value is not None:\n",
        "            return tree.value\n",
        "\n",
        "        # Choose the feature that we will test\n",
        "        feature_value = x[tree.feature_i]\n",
        "\n",
        "        # Determine if we will follow left or right branch\n",
        "        branch = tree.false_branch\n",
        "        if isinstance(feature_value, int) or isinstance(feature_value, float):\n",
        "            if feature_value >= tree.threshold:\n",
        "                branch = tree.true_branch\n",
        "        elif feature_value == tree.threshold:\n",
        "            branch = tree.true_branch\n",
        "\n",
        "        # Test subtree\n",
        "        return self.predict_value(x, branch)\n",
        "\n",
        "    def predict(self, X):\n",
        "        \"\"\" Classify samples one by one and return the set of labels \"\"\"\n",
        "        y_pred = [self.predict_value(sample) for sample in X]\n",
        "        return y_pred\n",
        "\n",
        "    def print_tree(self, tree=None, indent=\" \"):\n",
        "        \"\"\" Recursively print the decision tree \"\"\"\n",
        "        if not tree:\n",
        "            tree = self.root\n",
        "\n",
        "        # If we're at leaf => print the label\n",
        "        if tree.value is not None:\n",
        "            print (tree.value)\n",
        "        # Go deeper down the tree\n",
        "        else:\n",
        "            # Print test\n",
        "            print (\"%s:%s? \" % (tree.feature_i, tree.threshold))\n",
        "            # Print the true scenario\n",
        "            print (\"%sT->\" % (indent), end=\"\")\n",
        "            self.print_tree(tree.true_branch, indent + indent)\n",
        "            # Print the false scenario\n",
        "            print (\"%sF->\" % (indent), end=\"\")\n",
        "            self.print_tree(tree.false_branch, indent + indent)\n",
        "\n",
        "\n",
        "\n",
        "class XGBoostRegressionTree(DecisionTree):\n",
        "    \"\"\"\n",
        "    Regression tree for XGBoost\n",
        "    - Reference -\n",
        "    http://xgboost.readthedocs.io/en/latest/model.html\n",
        "    \"\"\"\n",
        "\n",
        "    def _split(self, y):\n",
        "        \"\"\" y contains y_true in left half of the middle column and\n",
        "        y_pred in the right half. Split and return the two matrices \"\"\"\n",
        "        col = int(np.shape(y)[1]/2)\n",
        "        y, y_pred = y[:, :col], y[:, col:]\n",
        "        return y, y_pred\n",
        "\n",
        "    def _gain(self, y, y_pred):\n",
        "        nominator = np.power((y * self.loss.gradient(y, y_pred)).sum(), 2)\n",
        "        denominator = self.loss.hess(y, y_pred).sum()\n",
        "        return 0.5 * (nominator / denominator)\n",
        "\n",
        "    def _gain_by_taylor(self, y, y1, y2):\n",
        "        # Split\n",
        "        y, y_pred = self._split(y)\n",
        "        y1, y1_pred = self._split(y1)\n",
        "        y2, y2_pred = self._split(y2)\n",
        "\n",
        "        true_gain = self._gain(y1, y1_pred)\n",
        "        false_gain = self._gain(y2, y2_pred)\n",
        "        gain = self._gain(y, y_pred)\n",
        "        return true_gain + false_gain - gain\n",
        "\n",
        "    def _approximate_update(self, y):\n",
        "        # y split into y, y_pred\n",
        "        y, y_pred = self._split(y)\n",
        "        # Newton's Method\n",
        "        gradient = np.sum(y * self.loss.gradient(y, y_pred), axis=0)\n",
        "        hessian = np.sum(self.loss.hess(y, y_pred), axis=0)\n",
        "        update_approximation =  gradient / hessian\n",
        "\n",
        "        return update_approximation\n",
        "\n",
        "    def fit(self, X, y):\n",
        "        self._impurity_calculation = self._gain_by_taylor\n",
        "        self._leaf_value_calculation = self._approximate_update\n",
        "        super(XGBoostRegressionTree, self).fit(X, y)\n",
        "\n",
        "\n",
        "class RegressionTree(DecisionTree):\n",
        "    def _calculate_variance_reduction(self, y, y1, y2):\n",
        "        var_tot = calculate_variance(y)\n",
        "        var_1 = calculate_variance(y1)\n",
        "        var_2 = calculate_variance(y2)\n",
        "        frac_1 = len(y1) / len(y)\n",
        "        frac_2 = len(y2) / len(y)\n",
        "\n",
        "        # Calculate the variance reduction\n",
        "        variance_reduction = var_tot - (frac_1 * var_1 + frac_2 * var_2)\n",
        "\n",
        "        return sum(variance_reduction)\n",
        "\n",
        "    def _mean_of_y(self, y):\n",
        "        value = np.mean(y, axis=0)\n",
        "        return value if len(value) > 1 else value[0]\n",
        "\n",
        "    def fit(self, X, y):\n",
        "        self._impurity_calculation = self._calculate_variance_reduction\n",
        "        self._leaf_value_calculation = self._mean_of_y\n",
        "        super(RegressionTree, self).fit(X, y)\n",
        "\n",
        "class ClassificationTree(DecisionTree):\n",
        "    def _calculate_information_gain(self, y, y1, y2):\n",
        "        # Calculate information gain\n",
        "        p = len(y1) / len(y)\n",
        "        entropy = calculate_entropy(y)\n",
        "        info_gain = entropy - p * \\\n",
        "            calculate_entropy(y1) - (1 - p) * \\\n",
        "            calculate_entropy(y2)\n",
        "\n",
        "        return info_gain\n",
        "\n",
        "    def _majority_vote(self, y):\n",
        "        most_common = None\n",
        "        max_count = 0\n",
        "        for label in np.unique(y):\n",
        "            # Count number of occurences of samples with label\n",
        "            count = len(y[y == label])\n",
        "            if count > max_count:\n",
        "                most_common = label\n",
        "                max_count = count\n",
        "        return most_common\n",
        "\n",
        "    def fit(self, X, y):\n",
        "        self._impurity_calculation = self._calculate_information_gain\n",
        "        self._leaf_value_calculation = self._majority_vote\n",
        "        super(ClassificationTree, self).fit(X, y)"
      ],
      "metadata": {
        "id": "WcATfZJzE3BP"
      },
      "execution_count": 15,
      "outputs": []
    },
    {
      "cell_type": "code",
      "source": [
        "from __future__ import division\n",
        "from itertools import combinations_with_replacement\n",
        "import numpy as np\n",
        "import math\n",
        "import sys\n",
        "\n",
        "\n",
        "def shuffle_data(X, y, seed=None):\n",
        "    \"\"\" Random shuffle of the samples in X and y \"\"\"\n",
        "    if seed:\n",
        "        np.random.seed(seed)\n",
        "    idx = np.arange(X.shape[0])\n",
        "    np.random.shuffle(idx)\n",
        "    return X[idx], y[idx]\n",
        "\n",
        "\n",
        "def batch_iterator(X, y=None, batch_size=64):\n",
        "    \"\"\" Simple batch generator \"\"\"\n",
        "    n_samples = X.shape[0]\n",
        "    for i in np.arange(0, n_samples, batch_size):\n",
        "        begin, end = i, min(i+batch_size, n_samples)\n",
        "        if y is not None:\n",
        "            yield X[begin:end], y[begin:end]\n",
        "        else:\n",
        "            yield X[begin:end]\n",
        "\n",
        "\n",
        "def divide_on_feature(X, feature_i, threshold):\n",
        "    \"\"\" Divide dataset based on if sample value on feature index is larger than\n",
        "        the given threshold \"\"\"\n",
        "    split_func = None\n",
        "    if isinstance(threshold, int) or isinstance(threshold, float):\n",
        "        split_func = lambda sample: sample[feature_i] >= threshold\n",
        "    else:\n",
        "        split_func = lambda sample: sample[feature_i] == threshold\n",
        "\n",
        "    X_1 = np.array([sample for sample in X if split_func(sample)])\n",
        "    X_2 = np.array([sample for sample in X if not split_func(sample)])\n",
        "\n",
        "    return np.array([X_1, X_2])\n",
        "\n",
        "\n",
        "def polynomial_features(X, degree):\n",
        "    n_samples, n_features = np.shape(X)\n",
        "\n",
        "    def index_combinations():\n",
        "        combs = [combinations_with_replacement(range(n_features), i) for i in range(0, degree + 1)]\n",
        "        flat_combs = [item for sublist in combs for item in sublist]\n",
        "        return flat_combs\n",
        "    \n",
        "    combinations = index_combinations()\n",
        "    n_output_features = len(combinations)\n",
        "    X_new = np.empty((n_samples, n_output_features))\n",
        "    \n",
        "    for i, index_combs in enumerate(combinations):  \n",
        "        X_new[:, i] = np.prod(X[:, index_combs], axis=1)\n",
        "\n",
        "    return X_new\n",
        "\n",
        "\n",
        "def get_random_subsets(X, y, n_subsets, replacements=True):\n",
        "    \"\"\" Return random subsets (with replacements) of the data \"\"\"\n",
        "    n_samples = np.shape(X)[0]\n",
        "    # Concatenate x and y and do a random shuffle\n",
        "    X_y = np.concatenate((X, y.reshape((1, len(y))).T), axis=1)\n",
        "    np.random.shuffle(X_y)\n",
        "    subsets = []\n",
        "\n",
        "    # Uses 50% of training samples without replacements\n",
        "    subsample_size = int(n_samples // 2)\n",
        "    if replacements:\n",
        "        subsample_size = n_samples      # 100% with replacements\n",
        "\n",
        "    for _ in range(n_subsets):\n",
        "        idx = np.random.choice(\n",
        "            range(n_samples),\n",
        "            size=np.shape(range(subsample_size)),\n",
        "            replace=replacements)\n",
        "        X = X_y[idx][:, :-1]\n",
        "        y = X_y[idx][:, -1]\n",
        "        subsets.append([X, y])\n",
        "    return subsets\n",
        "\n",
        "\n",
        "def normalize(X, axis=-1, order=2):\n",
        "    \"\"\" Normalize the dataset X \"\"\"\n",
        "    l2 = np.atleast_1d(np.linalg.norm(X, order, axis))\n",
        "    l2[l2 == 0] = 1\n",
        "    return X / np.expand_dims(l2, axis)\n",
        "\n",
        "\n",
        "def standardize(X):\n",
        "    \"\"\" Standardize the dataset X \"\"\"\n",
        "    X_std = X\n",
        "    mean = X.mean(axis=0)\n",
        "    std = X.std(axis=0)\n",
        "    for col in range(np.shape(X)[1]):\n",
        "        if std[col]:\n",
        "            X_std[:, col] = (X_std[:, col] - mean[col]) / std[col]\n",
        "    # X_std = (X - X.mean(axis=0)) / X.std(axis=0)\n",
        "    return X_std"
      ],
      "metadata": {
        "id": "Q2LP0BAXFX76"
      },
      "execution_count": 16,
      "outputs": []
    },
    {
      "cell_type": "code",
      "source": [
        "class LogisticLoss():\n",
        "    def __init__(self):\n",
        "        sigmoid = Sigmoid()\n",
        "        self.log_func = sigmoid\n",
        "        self.log_grad = sigmoid.gradient\n",
        "\n",
        "    def loss(self, y, y_pred):\n",
        "        y_pred = np.clip(y_pred, 1e-15, 1 - 1e-15)\n",
        "        p = self.log_func(y_pred)\n",
        "        return y * np.log(p) + (1 - y) * np.log(1 - p)\n",
        "\n",
        "    # gradient w.r.t y_pred\n",
        "    def gradient(self, y, y_pred):\n",
        "        p = self.log_func(y_pred)\n",
        "        return -(y - p)\n",
        "\n",
        "    # w.r.t y_pred\n",
        "    def hess(self, y, y_pred):\n",
        "        p = self.log_func(y_pred)\n",
        "        return p * (1 - p)\n",
        "\n",
        "\n",
        "class XGBoost(object):\n",
        "    \"\"\"The XGBoost classifier.\n",
        "    Reference: http://xgboost.readthedocs.io/en/latest/model.html\n",
        "    Parameters:\n",
        "    -----------\n",
        "    n_estimators: int\n",
        "        The number of classification trees that are used.\n",
        "    learning_rate: float\n",
        "        The step length that will be taken when following the negative gradient during\n",
        "        training.\n",
        "    min_samples_split: int\n",
        "        The minimum number of samples needed to make a split when building a tree.\n",
        "    min_impurity: float\n",
        "        The minimum impurity required to split the tree further. \n",
        "    max_depth: int\n",
        "        The maximum depth of a tree.\n",
        "    \"\"\"\n",
        "    def __init__(self, n_estimators=200, learning_rate=0.001, min_samples_split=2,\n",
        "                 min_impurity=1e-7, max_depth=2):\n",
        "        self.n_estimators = n_estimators            # Number of trees\n",
        "        self.learning_rate = learning_rate          # Step size for weight update\n",
        "        self.min_samples_split = min_samples_split  # The minimum n of sampels to justify split\n",
        "        self.min_impurity = min_impurity              # Minimum variance reduction to continue\n",
        "        self.max_depth = max_depth                  # Maximum depth for tree\n",
        "\n",
        "        self.bar = progressbar.ProgressBar(widgets=bar_widgets)\n",
        "        \n",
        "        # Log loss for classification\n",
        "        self.loss = LogisticLoss()\n",
        "\n",
        "        # Initialize regression trees\n",
        "        self.trees = []\n",
        "        for _ in range(n_estimators):\n",
        "            tree = XGBoostRegressionTree(\n",
        "                    min_samples_split=self.min_samples_split,\n",
        "                    min_impurity=min_impurity,\n",
        "                    max_depth=self.max_depth,\n",
        "                    loss=self.loss)\n",
        "\n",
        "            self.trees.append(tree)\n",
        "\n",
        "    def fit(self, X, y):\n",
        "        y = to_categorical(y)\n",
        "\n",
        "        y_pred = np.zeros(np.shape(y))\n",
        "        for i in self.bar(range(self.n_estimators)):\n",
        "            tree = self.trees[i]\n",
        "            y_and_pred = np.concatenate((y, y_pred), axis=1)\n",
        "            tree.fit(X, y_and_pred)\n",
        "            update_pred = tree.predict(X)\n",
        "\n",
        "            y_pred -= np.multiply(self.learning_rate, update_pred)\n",
        "\n",
        "    def predict(self, X):\n",
        "        y_pred = None\n",
        "        # Make predictions\n",
        "        for tree in self.trees:\n",
        "            # Estimate gradient and update prediction\n",
        "            update_pred = tree.predict(X)\n",
        "            if y_pred is None:\n",
        "                y_pred = np.zeros_like(update_pred)\n",
        "            y_pred -= np.multiply(self.learning_rate, update_pred)\n",
        "\n",
        "        # Turn into probability distribution (Softmax)\n",
        "        y_pred = np.exp(y_pred) / np.sum(np.exp(y_pred), axis=1, keepdims=True)\n",
        "        # Set label to the value that maximizes probability\n",
        "        y_pred = np.argmax(y_pred, axis=1)\n",
        "        return "
      ],
      "metadata": {
        "id": "WzdlU7uk5CFe"
      },
      "execution_count": 17,
      "outputs": []
    },
    {
      "cell_type": "markdown",
      "source": [
        "## *Result*-logisticRegression"
      ],
      "metadata": {
        "id": "hdHYIzCO5UpD"
      }
    },
    {
      "cell_type": "code",
      "source": [
        "logmodel = LogisticRegression()\n",
        "logmodel.fit(X_train,y_train)\n",
        "\n",
        "predictions = logmodel.predict(X_test)\n",
        "\n",
        "from sklearn.metrics import confusion_matrix\n",
        "accuracy = confusion_matrix(y_test,predictions)\n",
        "\n",
        "from sklearn.metrics import accuracy_score\n",
        "accuracy_score_result = accuracy_score(y_test,predictions)"
      ],
      "metadata": {
        "id": "54YxOZYB5UHQ"
      },
      "execution_count": 70,
      "outputs": []
    },
    {
      "cell_type": "code",
      "source": [
        "cm = confusion_matrix(y_test, predictions)\n",
        "print(cm)\n",
        "accuracy_score_result"
      ],
      "metadata": {
        "colab": {
          "base_uri": "https://localhost:8080/"
        },
        "id": "eS0p8iC05O75",
        "outputId": "3e43def6-ed49-4b62-c4e8-f03bd9475753"
      },
      "execution_count": 71,
      "outputs": [
        {
          "output_type": "stream",
          "name": "stdout",
          "text": [
            "[[2038   42]\n",
            " [ 239  147]]\n"
          ]
        },
        {
          "output_type": "execute_result",
          "data": {
            "text/plain": [
              "0.8860502838605029"
            ]
          },
          "metadata": {},
          "execution_count": 71
        }
      ]
    },
    {
      "cell_type": "code",
      "source": [
        "from sklearn.metrics import ConfusionMatrixDisplay\n",
        "ConfusionMatrixDisplay.from_estimator(logmodel, X_test, y_test)"
      ],
      "metadata": {
        "colab": {
          "base_uri": "https://localhost:8080/",
          "height": 297
        },
        "id": "rcDFgf-kOs51",
        "outputId": "d15d4c03-3daa-421a-94b7-1b1cb4fb7780"
      },
      "execution_count": 72,
      "outputs": [
        {
          "output_type": "execute_result",
          "data": {
            "text/plain": [
              "<sklearn.metrics._plot.confusion_matrix.ConfusionMatrixDisplay at 0x7fc17ff78af0>"
            ]
          },
          "metadata": {},
          "execution_count": 72
        },
        {
          "output_type": "display_data",
          "data": {
            "text/plain": [
              "<Figure size 432x288 with 2 Axes>"
            ],
            "image/png": "[encoded data removed]"
          },
          "metadata": {
            "needs_background": "light"
          }
        }
      ]
    },
    {
      "cell_type": "code",
      "source": [
        "def mse(true, pred):\n",
        "    return sum((true-pred)**2) / len(true)"
      ],
      "metadata": {
        "id": "W8pBfqaR5PJC"
      },
      "execution_count": 19,
      "outputs": []
    },
    {
      "cell_type": "code",
      "source": [
        "# MSE Logistic regression\n",
        "mse(y_test, predictions)"
      ],
      "metadata": {
        "colab": {
          "base_uri": "https://localhost:8080/"
        },
        "id": "hlcVXdRv5PRE",
        "outputId": "8fbf07ee-cebf-407d-bb57-24475c7db771"
      },
      "execution_count": 20,
      "outputs": [
        {
          "output_type": "execute_result",
          "data": {
            "text/plain": [
              "0.11354420113544202"
            ]
          },
          "metadata": {},
          "execution_count": 20
        }
      ]
    },
    {
      "cell_type": "markdown",
      "source": [
        "## Random Forest"
      ],
      "metadata": {
        "id": "ZKcZTEUZC6CZ"
      }
    },
    {
      "cell_type": "code",
      "source": [
        "classifier = RandomForest()\n",
        "classifier.fit(X_train, y_train)\n",
        "\n",
        "predictions_random_forest = classifier.predict(X_test)\n",
        "\n",
        "from sklearn.metrics import confusion_matrix\n",
        "\n",
        "accuracy_random_forest = confusion_matrix(y_test,predictions_random_forest)\n",
        "\n",
        "from sklearn.metrics import accuracy_score\n",
        "\n",
        "accuracy_random_forest = accuracy_score(y_test,predictions_random_forest)"
      ],
      "metadata": {
        "id": "FDEvcVGp4-H7"
      },
      "execution_count": 65,
      "outputs": []
    },
    {
      "cell_type": "code",
      "source": [
        "cm = confusion_matrix(y_test, predictions_random_forest)\n",
        "print(cm)\n",
        "accuracy_random_forest"
      ],
      "metadata": {
        "colab": {
          "base_uri": "https://localhost:8080/"
        },
        "id": "aCQgE8CTDNc2",
        "outputId": "87ef02a9-4d7e-4763-93b5-f1d47539f19b"
      },
      "execution_count": 66,
      "outputs": [
        {
          "output_type": "stream",
          "name": "stdout",
          "text": [
            "[[1995   85]\n",
            " [ 178  208]]\n"
          ]
        },
        {
          "output_type": "execute_result",
          "data": {
            "text/plain": [
              "0.8933495539334956"
            ]
          },
          "metadata": {},
          "execution_count": 66
        }
      ]
    },
    {
      "cell_type": "code",
      "source": [
        "from sklearn.metrics import ConfusionMatrixDisplay\n",
        "ConfusionMatrixDisplay.from_estimator(classifier, X_test, y_test)"
      ],
      "metadata": {
        "colab": {
          "base_uri": "https://localhost:8080/",
          "height": 297
        },
        "id": "VVu9Y_i_O8HM",
        "outputId": "c0b53ceb-ec98-4b33-ebf5-2740930bce8a"
      },
      "execution_count": 67,
      "outputs": [
        {
          "output_type": "execute_result",
          "data": {
            "text/plain": [
              "<sklearn.metrics._plot.confusion_matrix.ConfusionMatrixDisplay at 0x7fc188da62b0>"
            ]
          },
          "metadata": {},
          "execution_count": 67
        },
        {
          "output_type": "display_data",
          "data": {
            "text/plain": [
              "<Figure size 432x288 with 2 Axes>"
            ],
            "image/png": "[encoded data removed]"
          },
          "metadata": {
            "needs_background": "light"
          }
        }
      ]
    },
    {
      "cell_type": "code",
      "source": [
        "# MSE Logistic regression\n",
        "mse(y_test, predictions_random_forest)"
      ],
      "metadata": {
        "colab": {
          "base_uri": "https://localhost:8080/"
        },
        "id": "Aa55TxyiDNtm",
        "outputId": "f670f19c-338f-4f5b-a7dd-29f5e5afe72a"
      },
      "execution_count": 25,
      "outputs": [
        {
          "output_type": "execute_result",
          "data": {
            "text/plain": [
              "0.10624493106244931"
            ]
          },
          "metadata": {},
          "execution_count": 25
        }
      ]
    },
    {
      "cell_type": "markdown",
      "source": [
        "## xgboost"
      ],
      "metadata": {
        "id": "BQlGP1sBDceA"
      }
    },
    {
      "cell_type": "code",
      "source": [
        "XGBClassifier = XGBoost()\n",
        "XGBClassifier.fit(X_train, y_train)\n",
        "\n",
        "from sklearn.metrics import confusion_matrix, accuracy_score\n",
        "y_pred = XGBClassifier.predict(X_test)\n",
        "cm = confusion_matrix(y_test, y_pred)\n",
        "print(cm)\n",
        "accuracy_score(y_test, y_pred)"
      ],
      "metadata": {
        "colab": {
          "base_uri": "https://localhost:8080/"
        },
        "id": "N73R94XSM_oA",
        "outputId": "52551d6a-4e84-4a00-d737-0521cfdf217c"
      },
      "execution_count": 58,
      "outputs": [
        {
          "output_type": "stream",
          "name": "stdout",
          "text": [
            "[[1983   97]\n",
            " [ 157  229]]\n"
          ]
        },
        {
          "output_type": "execute_result",
          "data": {
            "text/plain": [
              "0.8969991889699919"
            ]
          },
          "metadata": {},
          "execution_count": 58
        }
      ]
    },
    {
      "cell_type": "code",
      "source": [
        "from sklearn.metrics import ConfusionMatrixDisplay\n",
        "ConfusionMatrixDisplay.from_estimator(XGBClassifier, X_test, y_test)"
      ],
      "metadata": {
        "colab": {
          "base_uri": "https://localhost:8080/",
          "height": 297
        },
        "id": "7-ylLEGKPK4Z",
        "outputId": "56f1cda5-3845-4cd6-c38c-5bebbfa75918"
      },
      "execution_count": 63,
      "outputs": [
        {
          "output_type": "execute_result",
          "data": {
            "text/plain": [
              "<sklearn.metrics._plot.confusion_matrix.ConfusionMatrixDisplay at 0x7fc17f5a2d30>"
            ]
          },
          "metadata": {},
          "execution_count": 63
        },
        {
          "output_type": "display_data",
          "data": {
            "text/plain": [
              "<Figure size 432x288 with 2 Axes>"
            ],
            "image/png": "[encoded data removed]"
          },
          "metadata": {
            "needs_background": "light"
          }
        }
      ]
    },
    {
      "cell_type": "code",
      "source": [
        "# MSE XGBoost\n",
        "mse(y_test, y_pred)"
      ],
      "metadata": {
        "colab": {
          "base_uri": "https://localhost:8080/"
        },
        "id": "gKcLR50KJLH6",
        "outputId": "99963e26-97d8-4b08-f64f-75781db62028"
      },
      "execution_count": 47,
      "outputs": [
        {
          "output_type": "execute_result",
          "data": {
            "text/plain": [
              "0.1030008110300081"
            ]
          },
          "metadata": {},
          "execution_count": 47
        }
      ]
    },
    {
      "cell_type": "markdown",
      "source": [
        "## SupportVectorMachine"
      ],
      "metadata": {
        "id": "LY1JKNhxJ6kR"
      }
    },
    {
      "cell_type": "code",
      "source": [
        "from sklearn.preprocessing import StandardScaler\n",
        "sc = StandardScaler()\n",
        "X_train = sc.fit_transform(X_train)\n",
        "X_test = sc.transform(X_test)\n",
        "\n",
        "classifiersvc = SupportVectorMachine()\n",
        "classifiersvc.fit(X_train, y_train)\n",
        "y_pred_svc = classifiersvc.predict(X_test)\n",
        "\n",
        "from sklearn.metrics import accuracy_score\n",
        "\n",
        "accuracy_svm = accuracy_score(y_test,y_pred_svc)"
      ],
      "metadata": {
        "id": "mhOnSLSfDo96"
      },
      "execution_count": 51,
      "outputs": []
    },
    {
      "cell_type": "code",
      "source": [
        "accuracy_svm"
      ],
      "metadata": {
        "colab": {
          "base_uri": "https://localhost:8080/"
        },
        "id": "s3jd-4pMHNpy",
        "outputId": "988b1047-d7dd-47d7-b5ad-8d3c0f1d0d67"
      },
      "execution_count": 19,
      "outputs": [
        {
          "output_type": "execute_result",
          "data": {
            "text/plain": [
              "0.897404703974047"
            ]
          },
          "metadata": {},
          "execution_count": 19
        }
      ]
    },
    {
      "cell_type": "code",
      "source": [
        "from sklearn.metrics import ConfusionMatrixDisplay\n",
        "ConfusionMatrixDisplay.from_estimator(classifiersvc, X_test, y_test)"
      ],
      "metadata": {
        "colab": {
          "base_uri": "https://localhost:8080/",
          "height": 299
        },
        "id": "5Or10DPkPRft",
        "outputId": "5b8f366d-361d-4693-cc6c-f755fb7d58a5"
      },
      "execution_count": 20,
      "outputs": [
        {
          "output_type": "execute_result",
          "data": {
            "text/plain": [
              "<sklearn.metrics._plot.confusion_matrix.ConfusionMatrixDisplay at 0x7f39d8475a90>"
            ]
          },
          "metadata": {},
          "execution_count": 20
        },
        {
          "output_type": "display_data",
          "data": {
            "text/plain": [
              "<Figure size 432x288 with 2 Axes>"
            ],
            "image/png": "[encoded data removed]"
          },
          "metadata": {
            "needs_background": "light"
          }
        }
      ]
    },
    {
      "cell_type": "code",
      "source": [
        "# MSE svc\n",
        "mse(y_test, y_pred_svc)"
      ],
      "metadata": {
        "colab": {
          "base_uri": "https://localhost:8080/"
        },
        "id": "1H-MXu_NJWhE",
        "outputId": "f1c7d777-6769-4fe7-d27d-2683c864b3a4"
      },
      "execution_count": 50,
      "outputs": [
        {
          "output_type": "execute_result",
          "data": {
            "text/plain": [
              "0.11354420113544202"
            ]
          },
          "metadata": {},
          "execution_count": 50
        }
      ]
    },
    {
      "cell_type": "markdown",
      "source": [
        "## Precision-Recall Curves\n"
      ],
      "metadata": {
        "id": "cjM5Jpr6LbYM"
      }
    },
    {
      "cell_type": "code",
      "source": [
        "from sklearn.metrics import plot_precision_recall_curve\n",
        "\n",
        "plot_precision_recall_curve(logmodel, X_test, y_test, name = 'Logistic Regression')\n",
        "plot_precision_recall_curve(classifier, X_test, y_test, name = 'Random Forest Classifier')\n",
        "plot_precision_recall_curve(XGBClassifier, X_test, y_test, name = 'XGB Classifier')\n",
        "plot_precision_recall_curve(classifiersvc, X_test, y_test, name = 'SCV')"
      ],
      "metadata": {
        "colab": {
          "base_uri": "https://localhost:8080/",
          "height": 1000
        },
        "id": "ZVhZarxbMXgm",
        "outputId": "e816b6e3-e916-4d1e-c8f4-1d7577384b51"
      },
      "execution_count": 73,
      "outputs": [
        {
          "output_type": "stream",
          "name": "stderr",
          "text": [
            "/usr/local/lib/python3.8/dist-packages/sklearn/utils/deprecation.py:87: FutureWarning: Function plot_precision_recall_curve is deprecated; Function `plot_precision_recall_curve` is deprecated in 1.0 and will be removed in 1.2. Use one of the class methods: PrecisionRecallDisplay.from_predictions or PrecisionRecallDisplay.from_estimator.\n",
            "  warnings.warn(msg, category=FutureWarning)\n",
            "/usr/local/lib/python3.8/dist-packages/sklearn/utils/deprecation.py:87: FutureWarning: Function plot_precision_recall_curve is deprecated; Function `plot_precision_recall_curve` is deprecated in 1.0 and will be removed in 1.2. Use one of the class methods: PrecisionRecallDisplay.from_predictions or PrecisionRecallDisplay.from_estimator.\n",
            "  warnings.warn(msg, category=FutureWarning)\n",
            "/usr/local/lib/python3.8/dist-packages/sklearn/utils/deprecation.py:87: FutureWarning: Function plot_precision_recall_curve is deprecated; Function `plot_precision_recall_curve` is deprecated in 1.0 and will be removed in 1.2. Use one of the class methods: PrecisionRecallDisplay.from_predictions or PrecisionRecallDisplay.from_estimator.\n",
            "  warnings.warn(msg, category=FutureWarning)\n",
            "/usr/local/lib/python3.8/dist-packages/sklearn/utils/deprecation.py:87: FutureWarning: Function plot_precision_recall_curve is deprecated; Function `plot_precision_recall_curve` is deprecated in 1.0 and will be removed in 1.2. Use one of the class methods: PrecisionRecallDisplay.from_predictions or PrecisionRecallDisplay.from_estimator.\n",
            "  warnings.warn(msg, category=FutureWarning)\n"
          ]
        },
        {
          "output_type": "execute_result",
          "data": {
            "text/plain": [
              "<sklearn.metrics._plot.precision_recall_curve.PrecisionRecallDisplay at 0x7fc17f7aba30>"
            ]
          },
          "metadata": {},
          "execution_count": 73
        },
        {
          "output_type": "display_data",
          "data": {
            "text/plain": [
              "<Figure size 432x288 with 1 Axes>"
            ],
            "image/png": "[encoded data removed]"
          },
          "metadata": {
            "needs_background": "light"
          }
        },
        {
          "output_type": "display_data",
          "data": {
            "text/plain": [
              "<Figure size 432x288 with 1 Axes>"
            ],
            "image/png": "[encoded data removed]"
          },
          "metadata": {
            "needs_background": "light"
          }
        },
        {
          "output_type": "display_data",
          "data": {
            "text/plain": [
              "<Figure size 432x288 with 1 Axes>"
            ],
            "image/png": "[encoded data removed]"
          },
          "metadata": {
            "needs_background": "light"
          }
        },
        {
          "output_type": "display_data",
          "data": {
            "text/plain": [
              "<Figure size 432x288 with 1 Axes>"
            ],
            "image/png": "[encoded data removed]"
          },
          "metadata": {
            "needs_background": "light"
          }
        }
      ]
    },
    {
      "cell_type": "code",
      "source": [],
      "metadata": {
        "id": "lRwLk2xLMXrL"
      },
      "execution_count": null,
      "outputs": []
    },
    {
      "cell_type": "code",
      "source": [],
      "metadata": {
        "id": "mIZTXyxFMXvp"
      },
      "execution_count": null,
      "outputs": []
    }
  ]
}