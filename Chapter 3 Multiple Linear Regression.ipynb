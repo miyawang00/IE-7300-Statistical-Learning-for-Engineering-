{
 "cells": [
  {
   "cell_type": "markdown",
   "id": "e46d3963",
   "metadata": {},
   "source": [
    "## Importing Modules"
   ]
  },
  {
   "cell_type": "code",
   "execution_count": 1,
   "id": "d98b070b",
   "metadata": {},
   "outputs": [],
   "source": [
    "# Importing the necessary libraries\n",
    "import numpy as np\n",
    "import pandas as pd\n",
    "import matplotlib.pyplot as plt\n",
    "\n",
    "#Preprocessing methods\n",
    "from sklearn.model_selection import train_test_split\n",
    "from sklearn.compose import ColumnTransformer\n",
    "from sklearn.preprocessing import OneHotEncoder\n",
    "from sklearn.preprocessing import StandardScaler"
   ]
  },
  {
   "cell_type": "markdown",
   "id": "c0bc83bb",
   "metadata": {},
   "source": [
    "## Input Data"
   ]
  },
  {
   "cell_type": "code",
   "execution_count": 2,
   "id": "c2d6b7ea",
   "metadata": {},
   "outputs": [
    {
     "data": {
      "text/html": [
       "<div>\n",
       "<style scoped>\n",
       "    .dataframe tbody tr th:only-of-type {\n",
       "        vertical-align: middle;\n",
       "    }\n",
       "\n",
       "    .dataframe tbody tr th {\n",
       "        vertical-align: top;\n",
       "    }\n",
       "\n",
       "    .dataframe thead th {\n",
       "        text-align: right;\n",
       "    }\n",
       "</style>\n",
       "<table border=\"1\" class=\"dataframe\">\n",
       "  <thead>\n",
       "    <tr style=\"text-align: right;\">\n",
       "      <th></th>\n",
       "      <th>R&amp;D Spend</th>\n",
       "      <th>Administration</th>\n",
       "      <th>Marketing Spend</th>\n",
       "      <th>State</th>\n",
       "      <th>Profit</th>\n",
       "    </tr>\n",
       "  </thead>\n",
       "  <tbody>\n",
       "    <tr>\n",
       "      <th>0</th>\n",
       "      <td>165349.20</td>\n",
       "      <td>136897.80</td>\n",
       "      <td>471784.10</td>\n",
       "      <td>New York</td>\n",
       "      <td>192261.83</td>\n",
       "    </tr>\n",
       "    <tr>\n",
       "      <th>1</th>\n",
       "      <td>162597.70</td>\n",
       "      <td>151377.59</td>\n",
       "      <td>443898.53</td>\n",
       "      <td>California</td>\n",
       "      <td>191792.06</td>\n",
       "    </tr>\n",
       "    <tr>\n",
       "      <th>2</th>\n",
       "      <td>153441.51</td>\n",
       "      <td>101145.55</td>\n",
       "      <td>407934.54</td>\n",
       "      <td>Florida</td>\n",
       "      <td>191050.39</td>\n",
       "    </tr>\n",
       "    <tr>\n",
       "      <th>3</th>\n",
       "      <td>144372.41</td>\n",
       "      <td>118671.85</td>\n",
       "      <td>383199.62</td>\n",
       "      <td>New York</td>\n",
       "      <td>182901.99</td>\n",
       "    </tr>\n",
       "    <tr>\n",
       "      <th>4</th>\n",
       "      <td>142107.34</td>\n",
       "      <td>91391.77</td>\n",
       "      <td>366168.42</td>\n",
       "      <td>Florida</td>\n",
       "      <td>166187.94</td>\n",
       "    </tr>\n",
       "  </tbody>\n",
       "</table>\n",
       "</div>"
      ],
      "text/plain": [
       "   R&D Spend  Administration  Marketing Spend       State     Profit\n",
       "0  165349.20       136897.80        471784.10    New York  192261.83\n",
       "1  162597.70       151377.59        443898.53  California  191792.06\n",
       "2  153441.51       101145.55        407934.54     Florida  191050.39\n",
       "3  144372.41       118671.85        383199.62    New York  182901.99\n",
       "4  142107.34        91391.77        366168.42     Florida  166187.94"
      ]
     },
     "execution_count": 2,
     "metadata": {},
     "output_type": "execute_result"
    }
   ],
   "source": [
    "# Input the data set\n",
    "dfData = pd.read_csv(\"50_Startups.csv\")\n",
    "dfData.head()"
   ]
  },
  {
   "cell_type": "code",
   "execution_count": 3,
   "id": "984e522b",
   "metadata": {},
   "outputs": [
    {
     "data": {
      "image/png": "[encoded data removed]",
      "text/plain": [
       "<Figure size 576x576 with 4 Axes>"
      ]
     },
     "metadata": {
      "needs_background": "light"
     },
     "output_type": "display_data"
    }
   ],
   "source": [
    "fig, ax = plt.subplots(nrows=2, ncols=2, figsize=(8, 8))\n",
    "fig.figsize = (10, 10)\n",
    "ax[0, 0].scatter(dfData['Profit'], dfData['R&D Spend'],color = 'red')\n",
    "ax[0, 1].scatter(dfData['Profit'], dfData['Administration'],color = 'purple')\n",
    "ax[1, 0].scatter(dfData['Profit'], dfData['Marketing Spend'], color ='green')\n",
    "ax[1, 1].scatter(dfData['Profit'], dfData['State'],color = 'blue')\n",
    "plt.tight_layout()"
   ]
  },
  {
   "cell_type": "markdown",
   "id": "975f6411",
   "metadata": {},
   "source": [
    "## Define features and labels"
   ]
  },
  {
   "cell_type": "code",
   "execution_count": 4,
   "id": "ec6d7ed3",
   "metadata": {},
   "outputs": [],
   "source": [
    "# Define features and labels\n",
    "x = dfData.iloc[:,:-1].values\n",
    "y = dfData.iloc[:,-1].values"
   ]
  },
  {
   "cell_type": "markdown",
   "id": "79306e50",
   "metadata": {},
   "source": [
    "## Converting text into columns"
   ]
  },
  {
   "cell_type": "code",
   "execution_count": 5,
   "id": "8bd4768d",
   "metadata": {},
   "outputs": [],
   "source": [
    "# Convert text data to numbers\n",
    "\n",
    "ct = ColumnTransformer(transformers=[('encoder', OneHotEncoder(), [3])], remainder='passthrough')\n",
    "x = np.array(ct.fit_transform(x))\n"
   ]
  },
  {
   "cell_type": "markdown",
   "id": "145a262b",
   "metadata": {},
   "source": [
    "## Scaling Dataset"
   ]
  },
  {
   "cell_type": "code",
   "execution_count": 6,
   "id": "32687bf0",
   "metadata": {},
   "outputs": [],
   "source": [
    "# Scale the dataset\n",
    "sc = StandardScaler()\n",
    "x = sc.fit_transform(x)\n"
   ]
  },
  {
   "cell_type": "markdown",
   "id": "925291e9",
   "metadata": {},
   "source": [
    "## Separating training and testing data"
   ]
  },
  {
   "cell_type": "code",
   "execution_count": 7,
   "id": "8d909f00",
   "metadata": {},
   "outputs": [],
   "source": [
    "# Separate the dataset into training and testing## Define features and labels\n",
    "Xtrain, Xtest, Ytrain, Ytest = train_test_split( x, y, test_size = 0.3,random_state=42)\n"
   ]
  },
  {
   "cell_type": "markdown",
   "id": "2daeec6d",
   "metadata": {},
   "source": [
    "## Implementing the logic for cost function and gradient descent function"
   ]
  },
  {
   "cell_type": "code",
   "execution_count": 8,
   "id": "8a5b58ab",
   "metadata": {},
   "outputs": [],
   "source": [
    "# Creating the cost and gradient function\n",
    "#calculate cost\n",
    "def CostFunction(x,y,w,b):\n",
    "    cost = np.sum((((x.dot(w) + b) - y) ** 2) / (2*len(y)))\n",
    "    return cost"
   ]
  },
  {
   "cell_type": "code",
   "execution_count": 9,
   "id": "57693a56",
   "metadata": {},
   "outputs": [],
   "source": [
    "#Gradient Descent\n",
    "def GradientDescent(x, y, w, b, learning_rate, epochs):\n",
    "    cost_list = [0] * epochs\n",
    "   \n",
    "    for epoch in range(epochs):\n",
    "        z = x.dot(w) + b\n",
    "        loss = z - y\n",
    "        \n",
    "        weight_gradient = x.T.dot(loss) / len(y)\n",
    "        bias_gradient = np.sum(loss) / len(y)\n",
    "        \n",
    "        w = w - learning_rate*weight_gradient\n",
    "        b = b - learning_rate*bias_gradient\n",
    "  \n",
    "        cost = CostFunction(x, y, w, b)\n",
    "        cost_list[epoch] = cost\n",
    "        \n",
    "        if (epoch%(epochs/10)==0):\n",
    "            print(\"Cost at epoch\",epoch,\"is:\",cost)\n",
    "        \n",
    "    return w, b, cost_list"
   ]
  },
  {
   "cell_type": "markdown",
   "id": "c95e2162",
   "metadata": {},
   "source": [
    "## Calculating weights and bias"
   ]
  },
  {
   "cell_type": "code",
   "execution_count": 16,
   "id": "a1831ed6",
   "metadata": {},
   "outputs": [
    {
     "name": "stdout",
     "output_type": "stream",
     "text": [
      "Cost at epoch 0 is: 6989316078.6237135\n",
      "Cost at epoch 1000 is: 200512882.6862143\n",
      "Cost at epoch 2000 is: 68805062.98158678\n",
      "Cost at epoch 3000 is: 52213406.46017958\n",
      "Cost at epoch 4000 is: 45742364.741230436\n",
      "Cost at epoch 5000 is: 42939191.499435574\n",
      "Cost at epoch 6000 is: 41718884.2933599\n",
      "Cost at epoch 7000 is: 41187527.00615271\n",
      "Cost at epoch 8000 is: 40956156.0778435\n",
      "Cost at epoch 9000 is: 40855409.29807189\n"
     ]
    }
   ],
   "source": [
    "# Calculating weights and bias\n",
    "w, b, c= GradientDescent(Xtrain, Ytrain, np.zeros(Xtrain.shape[1]), 0, 0.002,epochs=10000)\n"
   ]
  },
  {
   "cell_type": "markdown",
   "id": "2362652a",
   "metadata": {},
   "source": [
    "## Plotting the cost function"
   ]
  },
  {
   "cell_type": "code",
   "execution_count": 11,
   "id": "e0c01eec",
   "metadata": {
    "scrolled": true
   },
   "outputs": [
    {
     "data": {
      "text/plain": [
       "[<matplotlib.lines.Line2D at 0x7fe288016400>]"
      ]
     },
     "execution_count": 11,
     "metadata": {},
     "output_type": "execute_result"
    },
    {
     "data": {
      "image/png": "[encoded data removed]",
      "text/plain": [
       "<Figure size 432x288 with 1 Axes>"
      ]
     },
     "metadata": {
      "needs_background": "light"
     },
     "output_type": "display_data"
    }
   ],
   "source": [
    "# Plotting the cost\n",
    "plt.plot(c)"
   ]
  },
  {
   "cell_type": "markdown",
   "id": "eb31d43a",
   "metadata": {},
   "source": [
    "## Predicting values"
   ]
  },
  {
   "cell_type": "code",
   "execution_count": 12,
   "id": "0d51a88c",
   "metadata": {},
   "outputs": [],
   "source": [
    "# Predicting labels with the calculated weights and biases\n",
    "def predict(X, w, b):\n",
    "    return X.dot(w) + b"
   ]
  },
  {
   "cell_type": "code",
   "execution_count": 13,
   "id": "b857e9a8",
   "metadata": {},
   "outputs": [],
   "source": [
    "y_pred = predict(Xtest, w, b)"
   ]
  },
  {
   "cell_type": "markdown",
   "id": "e2de7b79",
   "metadata": {},
   "source": [
    "## Calculating accuracy"
   ]
  },
  {
   "cell_type": "code",
   "execution_count": 14,
   "id": "9fed13fb",
   "metadata": {},
   "outputs": [],
   "source": [
    "# Calculating the r² accuracy of our model\n",
    "def r2score(y_pred, y):\n",
    "    rss = np.sum((y_pred - y) ** 2)\n",
    "    tss = np.sum((y-y.mean()) ** 2)\n",
    "    \n",
    "    r2 = 1 - (rss / tss)\n",
    "    return r2"
   ]
  },
  {
   "cell_type": "code",
   "execution_count": 15,
   "id": "77b5fc58",
   "metadata": {},
   "outputs": [
    {
     "data": {
      "text/plain": [
       "0.6317721398592246"
      ]
     },
     "execution_count": 15,
     "metadata": {},
     "output_type": "execute_result"
    }
   ],
   "source": [
    "r2score(y_pred, Ytest)"
   ]
  },
  {
   "cell_type": "code",
   "execution_count": null,
   "id": "0ae4e9c2",
   "metadata": {},
   "outputs": [],
   "source": []
  }
 ],
 "metadata": {
  "kernelspec": {
   "display_name": "Python 3 (ipykernel)",
   "language": "python",
   "name": "python3"
  },
  "language_info": {
   "codemirror_mode": {
    "name": "ipython",
    "version": 3
   },
   "file_extension": ".py",
   "mimetype": "text/x-python",
   "name": "python",
   "nbconvert_exporter": "python",
   "pygments_lexer": "ipython3",
   "version": "3.9.7"
  }
 },
 "nbformat": 4,
 "nbformat_minor": 5
}
