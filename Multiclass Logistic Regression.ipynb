{
 "cells": [
  {
   "cell_type": "markdown",
   "id": "184a953c",
   "metadata": {},
   "source": [
    "### Load all the required libraries"
   ]
  },
  {
   "cell_type": "code",
   "execution_count": 1,
   "id": "3980c80b",
   "metadata": {},
   "outputs": [],
   "source": [
    "import numpy as np\n",
    "#Split the training and test dataset\n",
    "from sklearn.model_selection import train_test_split\n",
    "#load the sklearn datasets\n",
    "from sklearn import datasets\n",
    "#Visualization\n",
    "import matplotlib.pyplot as plt"
   ]
  },
  {
   "cell_type": "markdown",
   "id": "b7ecfd47",
   "metadata": {},
   "source": [
    "### Define the logistic regression"
   ]
  },
  {
   "cell_type": "code",
   "execution_count": 2,
   "id": "f2610e75",
   "metadata": {},
   "outputs": [],
   "source": [
    "class MultiClassLogisticRegression:\n",
    "    \"\"\"\n",
    "    Multiclass logistic regression\n",
    "    \"\"\"\n",
    "    \n",
    "    def __init__(self, epochs = 10000, threshold=1e-3):\n",
    "        \"\"\"\n",
    "        Constructor for multiclass regression\n",
    "\n",
    "        Args:\n",
    "            epochs (int, optional): No of iteration Defaults to 10000.\n",
    "            threshold (_type_, optional): Each iteration thresold. Defaults to 1e-3.\n",
    "        \"\"\"\n",
    "        self.epochs = epochs\n",
    "        self.threshold = threshold\n",
    "    \n",
    "    def fit(self, X, y, batch_size=64, lr=0.001, rand_seed=4, verbose=False): \n",
    "        \"\"\"\n",
    "        Train the model\n",
    "\n",
    "        Args:\n",
    "            X (_type_): Features\n",
    "            y (_type_): Labels\n",
    "            batch_size (int, optional): Batch size per iterations. Defaults to 64.\n",
    "            lr (float, optional): Learning rate. Defaults to 0.001.\n",
    "            rand_seed (int, optional): _description_. Defaults to 4.\n",
    "            verbose (bool, optional): _description_. Defaults to False.\n",
    "\n",
    "        Returns:\n",
    "            _type_: return the instance \n",
    "        \"\"\"\n",
    "        np.random.seed(rand_seed) \n",
    "        self.classes = np.unique(y)\n",
    "        self.class_labels = {c:i for i,c in enumerate(self.classes)}\n",
    "        X = self.add_bias(X)\n",
    "        y = self.one_hot(y)\n",
    "        self.loss = []\n",
    "        self.weights = np.zeros(shape=(len(self.classes),X.shape[1]))\n",
    "        self.fit_data(X, y, batch_size, lr, verbose)\n",
    "        return self\n",
    " \n",
    "    def fit_data(self, X, y, batch_size, lr, verbose):\n",
    "        i = 0\n",
    "        while (not self.epochs or i < self.epochs):\n",
    "            self.loss.append(self.cross_entropy(y, self.predict_(X)))\n",
    "            idx = np.random.choice(X.shape[0], batch_size)\n",
    "            X_batch, y_batch = X[idx], y[idx]\n",
    "            error = y_batch - self.predict_(X_batch)\n",
    "            update = (lr * np.dot(error.T, X_batch))\n",
    "            self.weights += update\n",
    "            if np.abs(update).max() < self.threshold: \n",
    "                break\n",
    "            if i % 1000 == 0 and verbose: \n",
    "                print(' Training Accuray at {} iterations is {}'.format(i, self.evaluate_(X, y)))\n",
    "            i +=1\n",
    "    \n",
    "    def predict(self, X):\n",
    "        return self.predict_(self.add_bias(X))\n",
    "    \n",
    "    def predict_(self, X):\n",
    "        pre_vals = np.dot(X, self.weights.T).reshape(-1,len(self.classes))\n",
    "        return self.softmax(pre_vals)\n",
    "    \n",
    "    def softmax(self, z):\n",
    "        return np.exp(z) / np.sum(np.exp(z), axis=1).reshape(-1,1)\n",
    "\n",
    "    def predict_classes(self, X):\n",
    "        self.probs_ = self.predict(X)\n",
    "        return np.vectorize(lambda c: self.classes[c])(np.argmax(self.probs_, axis=1))\n",
    "  \n",
    "    def add_bias(self,X):\n",
    "        return np.insert(X, 0, 1, axis=1)\n",
    "  \n",
    "    def get_random_weights(self, row, col):\n",
    "        return np.zeros(shape=(row,col))\n",
    "\n",
    "    def one_hot(self, y):\n",
    "        return np.eye(len(self.classes))[np.vectorize(lambda c: self.class_labels[c])(y).reshape(-1)]\n",
    "    \n",
    "    def score(self, X, y):\n",
    "        return round(np.mean(self.predict_classes(X) == y),3)\n",
    "    \n",
    "    def evaluate_(self, X, y):\n",
    "        return np.mean(np.argmax(self.predict_(X), axis=1) == np.argmax(y, axis=1))\n",
    "    \n",
    "    def cross_entropy(self, y, probs):\n",
    "        return -1 * np.mean(y * np.log(probs))"
   ]
  },
  {
   "cell_type": "markdown",
   "id": "6a0d166d",
   "metadata": {},
   "source": [
    "### Load the dataset"
   ]
  },
  {
   "cell_type": "code",
   "execution_count": 3,
   "id": "67ac4895",
   "metadata": {},
   "outputs": [],
   "source": [
    "X,y = datasets.load_iris(return_X_y=True)"
   ]
  },
  {
   "cell_type": "markdown",
   "id": "93c40948",
   "metadata": {},
   "source": [
    "### Fit the IRIS dataset"
   ]
  },
  {
   "cell_type": "code",
   "execution_count": 4,
   "id": "b39ed753",
   "metadata": {},
   "outputs": [
    {
     "name": "stdout",
     "output_type": "stream",
     "text": [
      "0.98\n"
     ]
    },
    {
     "data": {
      "image/png": "[encoded data removed]",
      "text/plain": [
       "<Figure size 576x432 with 1 Axes>"
      ]
     },
     "metadata": {
      "needs_background": "light"
     },
     "output_type": "display_data"
    }
   ],
   "source": [
    "lrModel = MultiClassLogisticRegression(threshold=1e-5)\n",
    "lrModel.fit(X,y,lr=0.0001)\n",
    "print(lrModel.score(X, y))\n",
    "\n",
    "fig = plt.figure(figsize=(8,6))\n",
    "plt.plot(np.arange(len(lrModel.loss)), lrModel.loss)\n",
    "plt.title(\"Development of loss during training\")\n",
    "plt.xlabel(\"Number of iterations\")\n",
    "plt.ylabel(\"Loss\")\n",
    "plt.show()"
   ]
  },
  {
   "cell_type": "markdown",
   "id": "34af1ef7",
   "metadata": {},
   "source": [
    "### Fit the model for digits dataset"
   ]
  },
  {
   "cell_type": "code",
   "execution_count": 5,
   "id": "1196f7da",
   "metadata": {},
   "outputs": [
    {
     "name": "stdout",
     "output_type": "stream",
     "text": [
      "0.965\n"
     ]
    },
    {
     "data": {
      "image/png": "[encoded data removed]",
      "text/plain": [
       "<Figure size 576x432 with 1 Axes>"
      ]
     },
     "metadata": {
      "needs_background": "light"
     },
     "output_type": "display_data"
    }
   ],
   "source": [
    "# import some data to play with\n",
    "digits = datasets.load_digits()\n",
    "X = digits.data  # we only take the first two features.\n",
    "Y = digits.target\n",
    "lrModel = MultiClassLogisticRegression()\n",
    "lrModel.fit(X,Y, lr=0.0001)\n",
    "\n",
    "pre = lrModel.predict_classes(X)\n",
    "print(lrModel.score(X,Y))\n",
    "\n",
    "fig = plt.figure(figsize=(8,6))\n",
    "plt.plot(np.arange(len(lrModel.loss)), lrModel.loss)\n",
    "plt.title(\"Development of loss during training\")\n",
    "plt.xlabel(\"Number of iterations\")\n",
    "plt.ylabel(\"Loss\")\n",
    "plt.show()"
   ]
  },
  {
   "cell_type": "code",
   "execution_count": null,
   "id": "2ae96cd1",
   "metadata": {},
   "outputs": [],
   "source": []
  }
 ],
 "metadata": {
  "kernelspec": {
   "display_name": "Python 3 (ipykernel)",
   "language": "python",
   "name": "python3"
  },
  "language_info": {
   "codemirror_mode": {
    "name": "ipython",
    "version": 3
   },
   "file_extension": ".py",
   "mimetype": "text/x-python",
   "name": "python",
   "nbconvert_exporter": "python",
   "pygments_lexer": "ipython3",
   "version": "3.9.7"
  }
 },
 "nbformat": 4,
 "nbformat_minor": 5
}
