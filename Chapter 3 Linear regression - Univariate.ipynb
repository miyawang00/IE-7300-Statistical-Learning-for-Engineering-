{
 "cells": [
  {
   "cell_type": "code",
   "execution_count": 1,
   "id": "f495d515",
   "metadata": {},
   "outputs": [],
   "source": [
    "#import the required libraries\n",
    "\n",
    "import pandas as pd\n",
    "import matplotlib.pyplot as plt\n",
    "%matplotlib inline"
   ]
  },
  {
   "cell_type": "markdown",
   "id": "61897988",
   "metadata": {},
   "source": [
    "### Open the dataset"
   ]
  },
  {
   "cell_type": "code",
   "execution_count": 2,
   "id": "40b06181",
   "metadata": {},
   "outputs": [
    {
     "data": {
      "text/html": [
       "<div>\n",
       "<style scoped>\n",
       "    .dataframe tbody tr th:only-of-type {\n",
       "        vertical-align: middle;\n",
       "    }\n",
       "\n",
       "    .dataframe tbody tr th {\n",
       "        vertical-align: top;\n",
       "    }\n",
       "\n",
       "    .dataframe thead th {\n",
       "        text-align: right;\n",
       "    }\n",
       "</style>\n",
       "<table border=\"1\" class=\"dataframe\">\n",
       "  <thead>\n",
       "    <tr style=\"text-align: right;\">\n",
       "      <th></th>\n",
       "      <th>x</th>\n",
       "      <th>y</th>\n",
       "    </tr>\n",
       "  </thead>\n",
       "  <tbody>\n",
       "    <tr>\n",
       "      <th>0</th>\n",
       "      <td>34.842345</td>\n",
       "      <td>34.137006</td>\n",
       "    </tr>\n",
       "    <tr>\n",
       "      <th>1</th>\n",
       "      <td>55.766804</td>\n",
       "      <td>71.207596</td>\n",
       "    </tr>\n",
       "    <tr>\n",
       "      <th>2</th>\n",
       "      <td>63.870358</td>\n",
       "      <td>64.992382</td>\n",
       "    </tr>\n",
       "    <tr>\n",
       "      <th>3</th>\n",
       "      <td>49.815640</td>\n",
       "      <td>73.976632</td>\n",
       "    </tr>\n",
       "    <tr>\n",
       "      <th>4</th>\n",
       "      <td>62.153208</td>\n",
       "      <td>89.660925</td>\n",
       "    </tr>\n",
       "  </tbody>\n",
       "</table>\n",
       "</div>"
      ],
      "text/plain": [
       "           x          y\n",
       "0  34.842345  34.137006\n",
       "1  55.766804  71.207596\n",
       "2  63.870358  64.992382\n",
       "3  49.815640  73.976632\n",
       "4  62.153208  89.660925"
      ]
     },
     "execution_count": 2,
     "metadata": {},
     "output_type": "execute_result"
    }
   ],
   "source": [
    "dfDataset = pd.read_csv('data.csv')\n",
    "dfDataset.head()"
   ]
  },
  {
   "cell_type": "markdown",
   "id": "ecdb2c68",
   "metadata": {},
   "source": [
    "### Show the X & Y relationship"
   ]
  },
  {
   "cell_type": "code",
   "execution_count": 3,
   "id": "de93e5fa",
   "metadata": {},
   "outputs": [
    {
     "data": {
      "image/png": "[encoded data removed]",
      "text/plain": [
       "<Figure size 432x288 with 1 Axes>"
      ]
     },
     "metadata": {
      "needs_background": "light"
     },
     "output_type": "display_data"
    }
   ],
   "source": [
    "X = dfDataset['x']; \n",
    "Y = dfDataset['y']\n",
    "X = X.tolist()\n",
    "Y = Y.tolist()\n",
    "\n",
    "def plot_XY(X,Y):\n",
    "    plt.scatter(X, Y, s = 5, color=\"red\")\n",
    "    plt.grid()\n",
    "    plt.xlabel(\"x values\")\n",
    "    plt.ylabel(\"y values\")\n",
    "    plt.title(\"Relationship between X & Y\")\n",
    "    plt.show()\n",
    "    \n",
    "plot_XY(X,Y)"
   ]
  },
  {
   "cell_type": "markdown",
   "id": "30517f4a",
   "metadata": {},
   "source": [
    "### Loss function"
   ]
  },
  {
   "cell_type": "code",
   "execution_count": 4,
   "id": "f8dc98ee",
   "metadata": {},
   "outputs": [],
   "source": [
    "def loss_function(X, Y, w, b):\n",
    "\n",
    "    N = len(X)\n",
    "    total_error = 0.0\n",
    "    for i in range(N):\n",
    "        total_error += (Y[i] - (w*X[i] - b))**2\n",
    "\n",
    "    return total_error / (2*float(N))"
   ]
  },
  {
   "cell_type": "markdown",
   "id": "ded395f6",
   "metadata": {},
   "source": [
    "### Gradient descent"
   ]
  },
  {
   "cell_type": "code",
   "execution_count": 5,
   "id": "43a78428",
   "metadata": {},
   "outputs": [],
   "source": [
    "def gradient_descent(X, Y, w, b, learningrate):\n",
    " \n",
    "    dl_dw = 0.0\n",
    "    dl_db = 0.0\n",
    "    N = len(X)\n",
    "\n",
    "    for i in range(N):\n",
    "        dl_dw += -1*X[i] * (Y[i] - (w*X[i] + b))\n",
    "        dl_db += -1*(Y[i] - (w*X[i] + b))\n",
    "\n",
    "    w = w - (1/float(N)) * dl_dw * learningrate\n",
    "    b = b - (1/float(N)) * dl_db * learningrate\n",
    "\n",
    "    return w, b"
   ]
  },
  {
   "cell_type": "markdown",
   "id": "882062df",
   "metadata": {},
   "source": [
    "### train and predict function"
   ]
  },
  {
   "cell_type": "code",
   "execution_count": 6,
   "id": "09754399",
   "metadata": {},
   "outputs": [],
   "source": [
    "def train(X, Y, w, b, learningrate, epochs):\n",
    "\n",
    "    for i in range(epochs):\n",
    "        w, b = gradient_descent(X, Y, w, b, learningrate)\n",
    "\n",
    "        if i % 10 == 0:\n",
    "            print (\"epochs:\", i, \"cost: \", loss_function(X, Y, w, b))\n",
    "\n",
    "\n",
    "    return w, b\n",
    "\n",
    "\n",
    "def predict(x, w, b):\n",
    "\treturn x*w + b"
   ]
  },
  {
   "cell_type": "code",
   "execution_count": 7,
   "id": "e3ccd085",
   "metadata": {},
   "outputs": [
    {
     "name": "stdout",
     "output_type": "stream",
     "text": [
      "epochs: 0 cost:  1594.3520642986343\n",
      "epochs: 10 cost:  58.82458745704861\n",
      "epochs: 20 cost:  56.073087496623586\n",
      "epochs: 30 cost:  56.06365749708283\n",
      "epochs: 40 cost:  56.06353203700387\n",
      "epochs: 50 cost:  56.063614951370965\n",
      "epochs: 60 cost:  56.06370650084748\n",
      "epochs: 70 cost:  56.06379864429947\n",
      "epochs: 80 cost:  56.06389104605647\n",
      "epochs: 90 cost:  56.063983692062614\n",
      "epochs: 100 cost:  56.06407658170598\n",
      "epochs: 110 cost:  56.064169714936625\n",
      "epochs: 120 cost:  56.06426309172818\n",
      "epochs: 130 cost:  56.064356712055094\n",
      "epochs: 140 cost:  56.0644505758919\n",
      "epochs: 150 cost:  56.064544683213335\n",
      "epochs: 160 cost:  56.06463903399384\n",
      "epochs: 170 cost:  56.06473362820805\n",
      "epochs: 180 cost:  56.06482846583052\n",
      "epochs: 190 cost:  56.064923546835935\n",
      "epochs: 200 cost:  56.06501887119879\n",
      "epochs: 210 cost:  56.065114438893715\n",
      "epochs: 220 cost:  56.06521024989531\n",
      "epochs: 230 cost:  56.06530630417812\n",
      "epochs: 240 cost:  56.065402601716826\n",
      "epochs: 250 cost:  56.06549914248601\n",
      "epochs: 260 cost:  56.06559592646022\n",
      "epochs: 270 cost:  56.065692953614096\n",
      "epochs: 280 cost:  56.06579022392223\n",
      "epochs: 290 cost:  56.06588773735928\n",
      "epochs: 300 cost:  56.06598549389981\n",
      "epochs: 310 cost:  56.066083493518484\n",
      "epochs: 320 cost:  56.06618173618985\n",
      "epochs: 330 cost:  56.06628022188858\n",
      "epochs: 340 cost:  56.06637895058927\n",
      "epochs: 350 cost:  56.06647792226653\n",
      "epochs: 360 cost:  56.066577136895006\n",
      "epochs: 370 cost:  56.06667659444929\n",
      "epochs: 380 cost:  56.0667762949041\n",
      "epochs: 390 cost:  56.06687623823396\n",
      "epochs: 400 cost:  56.066976424413525\n",
      "epochs: 410 cost:  56.06707685341747\n",
      "epochs: 420 cost:  56.0671775252204\n",
      "epochs: 430 cost:  56.06727843979699\n",
      "epochs: 440 cost:  56.067379597121864\n",
      "epochs: 450 cost:  56.067480997169625\n",
      "epochs: 460 cost:  56.06758263991495\n",
      "epochs: 470 cost:  56.06768452533246\n",
      "epochs: 480 cost:  56.06778665339682\n",
      "epochs: 490 cost:  56.06788902408275\n",
      "y-hat is : 73.01870481174079\n"
     ]
    }
   ],
   "source": [
    "w, b = train(X, Y, 0.0, 0.0, 0.0001, 500)\n",
    "x_new = 50.0\n",
    "y_new = predict(x_new, w, b)\n",
    "print(\"y-hat is :\",y_new)"
   ]
  },
  {
   "cell_type": "code",
   "execution_count": null,
   "id": "d877ae6a",
   "metadata": {},
   "outputs": [],
   "source": []
  }
 ],
 "metadata": {
  "kernelspec": {
   "display_name": "Python 3 (ipykernel)",
   "language": "python",
   "name": "python3"
  },
  "language_info": {
   "codemirror_mode": {
    "name": "ipython",
    "version": 3
   },
   "file_extension": ".py",
   "mimetype": "text/x-python",
   "name": "python",
   "nbconvert_exporter": "python",
   "pygments_lexer": "ipython3",
   "version": "3.9.7"
  }
 },
 "nbformat": 4,
 "nbformat_minor": 5
}
